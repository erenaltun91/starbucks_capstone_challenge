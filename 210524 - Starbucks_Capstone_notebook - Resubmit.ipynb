{
 "cells": [
  {
   "cell_type": "markdown",
   "metadata": {},
   "source": [
    "# Starbucks Capstone Challenge\n",
    "\n",
    "### Introduction\n",
    "\n",
    "This data set contains simulated data that mimics customer behavior on the Starbucks rewards mobile app. Once every few days, Starbucks sends out an offer to users of the mobile app. An offer can be merely an advertisement for a drink or an actual offer such as a discount or BOGO (buy one get one free). Some users might not receive any offer during certain weeks. \n",
    "\n",
    "Not all users receive the same offer, and that is the challenge to solve with this data set.\n",
    "\n",
    "Your task is to combine transaction, demographic and offer data to determine which demographic groups respond best to which offer type. This data set is a simplified version of the real Starbucks app because the underlying simulator only has one product whereas Starbucks actually sells dozens of products.\n",
    "\n",
    "Every offer has a validity period before the offer expires. As an example, a BOGO offer might be valid for only 5 days. You'll see in the data set that informational offers have a validity period even though these ads are merely providing information about a product; for example, if an informational offer has 7 days of validity, you can assume the customer is feeling the influence of the offer for 7 days after receiving the advertisement.\n",
    "\n",
    "You'll be given transactional data showing user purchases made on the app including the timestamp of purchase and the amount of money spent on a purchase. This transactional data also has a record for each offer that a user receives as well as a record for when a user actually views the offer. There are also records for when a user completes an offer. \n",
    "\n",
    "Keep in mind as well that someone using the app might make a purchase through the app without having received an offer or seen an offer.\n",
    "\n",
    "### Example\n",
    "\n",
    "To give an example, a user could receive a discount offer buy 10 dollars get 2 off on Monday. The offer is valid for 10 days from receipt. If the customer accumulates at least 10 dollars in purchases during the validity period, the customer completes the offer.\n",
    "\n",
    "However, there are a few things to watch out for in this data set. Customers do not opt into the offers that they receive; in other words, a user can receive an offer, never actually view the offer, and still complete the offer. For example, a user might receive the \"buy 10 dollars get 2 dollars off offer\", but the user never opens the offer during the 10 day validity period. The customer spends 15 dollars during those ten days. There will be an offer completion record in the data set; however, the customer was not influenced by the offer because the customer never viewed the offer.\n",
    "\n",
    "### Cleaning\n",
    "\n",
    "This makes data cleaning especially important and tricky.\n",
    "\n",
    "You'll also want to take into account that some demographic groups will make purchases even if they don't receive an offer. From a business perspective, if a customer is going to make a 10 dollar purchase without an offer anyway, you wouldn't want to send a buy 10 dollars get 2 dollars off offer. You'll want to try to assess what a certain demographic group will buy when not receiving any offers.\n",
    "\n",
    "### Final Advice\n",
    "\n",
    "Because this is a capstone project, you are free to analyze the data any way you see fit. For example, you could build a machine learning model that predicts how much someone will spend based on demographics and offer type. Or you could build a model that predicts whether or not someone will respond to an offer. Or, you don't need to build a machine learning model at all. You could develop a set of heuristics that determine what offer you should send to each customer (i.e., 75 percent of women customers who were 35 years old responded to offer A vs 40 percent from the same demographic to offer B, so send offer A)."
   ]
  },
  {
   "cell_type": "markdown",
   "metadata": {},
   "source": [
    "# Data Sets\n",
    "\n",
    "The data is contained in three files:\n",
    "\n",
    "* portfolio.json - containing offer ids and meta data about each offer (duration, type, etc.)\n",
    "* profile.json - demographic data for each customer\n",
    "* transcript.json - records for transactions, offers received, offers viewed, and offers completed\n",
    "\n",
    "Here is the schema and explanation of each variable in the files:\n",
    "\n",
    "**portfolio.json**\n",
    "* id (string) - offer id\n",
    "* offer_type (string) - type of offer ie BOGO, discount, informational\n",
    "* difficulty (int) - minimum required spend to complete an offer\n",
    "* reward (int) - reward given for completing an offer\n",
    "* duration (int) - time for offer to be open, in days\n",
    "* channels (list of strings)\n",
    "\n",
    "**profile.json**\n",
    "* age (int) - age of the customer \n",
    "* became_member_on (int) - date when customer created an app account\n",
    "* gender (str) - gender of the customer (note some entries contain 'O' for other rather than M or F)\n",
    "* id (str) - customer id\n",
    "* income (float) - customer's income\n",
    "\n",
    "**transcript.json**\n",
    "* event (str) - record description (ie transaction, offer received, offer viewed, etc.)\n",
    "* person (str) - customer id\n",
    "* time (int) - time in hours since start of test. The data begins at time t=0\n",
    "* value - (dict of strings) - either an offer id or transaction amount depending on the record\n",
    "\n",
    "**Note:** If you are using the workspace, you will need to go to the terminal and run the command `conda update pandas` before reading in the files. This is because the version of pandas in the workspace cannot read in the transcript.json file correctly, but the newest version of pandas can. You can access the termnal from the orange icon in the top left of this notebook.  \n",
    "\n",
    "You can see how to access the terminal and how the install works using the two images below.  First you need to access the terminal:\n",
    "\n",
    "<img src=\"pic1.png\"/>\n",
    "\n",
    "Then you will want to run the above command:\n",
    "\n",
    "<img src=\"pic2.png\"/>\n",
    "\n",
    "Finally, when you enter back into the notebook (use the jupyter icon again), you should be able to run the below cell without any errors."
   ]
  },
  {
   "cell_type": "code",
   "execution_count": 1,
   "metadata": {},
   "outputs": [],
   "source": [
    "import pandas as pd\n",
    "import numpy as np\n",
    "import math\n",
    "import json\n",
    "import matplotlib.pyplot as plt\n",
    "import seaborn as sns\n",
    "import pickle\n",
    "import os\n",
    "from datetime import datetime\n",
    "import seaborn as sns\n",
    "% matplotlib inline\n",
    "\n"
   ]
  },
  {
   "cell_type": "code",
   "execution_count": 2,
   "metadata": {},
   "outputs": [],
   "source": [
    "#Read in the json files\n",
    "portfolio = pd.read_json('data/portfolio.json', orient='records', lines=True)\n",
    "profile = pd.read_json('data/profile.json', orient='records', lines=True)\n",
    "transcript = pd.read_json('data/transcript.json', orient='records', lines=True)"
   ]
  },
  {
   "cell_type": "markdown",
   "metadata": {
    "scrolled": true
   },
   "source": [
    "## 1. Data Wrangling and Cleaning"
   ]
  },
  {
   "cell_type": "markdown",
   "metadata": {},
   "source": [
    "### 1.1 Portfolio dataframe"
   ]
  },
  {
   "cell_type": "code",
   "execution_count": 3,
   "metadata": {},
   "outputs": [
    {
     "name": "stdout",
     "output_type": "stream",
     "text": [
      "                       channels  difficulty  duration  \\\n",
      "0       [email, mobile, social]          10         7   \n",
      "1  [web, email, mobile, social]          10         5   \n",
      "2          [web, email, mobile]           0         4   \n",
      "3          [web, email, mobile]           5         7   \n",
      "4                  [web, email]          20        10   \n",
      "\n",
      "                                 id     offer_type  reward  \n",
      "0  ae264e3637204a6fb9bb56bc8210ddfd           bogo      10  \n",
      "1  4d5c57ea9a6940dd891ad53e9dbe8da0           bogo      10  \n",
      "2  3f207df678b143eea3cee63160fa8bed  informational       0  \n",
      "3  9b98b8c7a33c4b65b9aebfe6a799e6d9           bogo       5  \n",
      "4  0b1e1539f2cc45b7b9fa7c272da2e1d7       discount       5  \n",
      "channels      object\n",
      "difficulty     int64\n",
      "duration       int64\n",
      "id            object\n",
      "offer_type    object\n",
      "reward         int64\n",
      "dtype: object\n"
     ]
    }
   ],
   "source": [
    "#Check the first entries\n",
    "print(portfolio.head())\n",
    "\n",
    "#Check the data types\n",
    "print(portfolio.dtypes)"
   ]
  },
  {
   "cell_type": "code",
   "execution_count": 4,
   "metadata": {},
   "outputs": [
    {
     "name": "stdout",
     "output_type": "stream",
     "text": [
      "   bogo  discount  informational\n",
      "0     1         0              0\n",
      "1     1         0              0\n",
      "2     0         0              1\n",
      "3     1         0              0\n",
      "4     0         1              0\n",
      "5     0         1              0\n",
      "6     0         1              0\n",
      "7     0         0              1\n",
      "8     1         0              0\n",
      "9     0         1              0\n"
     ]
    },
    {
     "data": {
      "text/html": [
       "<div>\n",
       "<style scoped>\n",
       "    .dataframe tbody tr th:only-of-type {\n",
       "        vertical-align: middle;\n",
       "    }\n",
       "\n",
       "    .dataframe tbody tr th {\n",
       "        vertical-align: top;\n",
       "    }\n",
       "\n",
       "    .dataframe thead th {\n",
       "        text-align: right;\n",
       "    }\n",
       "</style>\n",
       "<table border=\"1\" class=\"dataframe\">\n",
       "  <thead>\n",
       "    <tr style=\"text-align: right;\">\n",
       "      <th></th>\n",
       "      <th>channels</th>\n",
       "      <th>difficulty</th>\n",
       "      <th>duration</th>\n",
       "      <th>id</th>\n",
       "      <th>offer_type</th>\n",
       "      <th>reward</th>\n",
       "      <th>bogo</th>\n",
       "      <th>discount</th>\n",
       "      <th>informational</th>\n",
       "    </tr>\n",
       "  </thead>\n",
       "  <tbody>\n",
       "    <tr>\n",
       "      <th>0</th>\n",
       "      <td>[email, mobile, social]</td>\n",
       "      <td>10</td>\n",
       "      <td>7</td>\n",
       "      <td>ae264e3637204a6fb9bb56bc8210ddfd</td>\n",
       "      <td>bogo</td>\n",
       "      <td>10</td>\n",
       "      <td>1</td>\n",
       "      <td>0</td>\n",
       "      <td>0</td>\n",
       "    </tr>\n",
       "    <tr>\n",
       "      <th>1</th>\n",
       "      <td>[web, email, mobile, social]</td>\n",
       "      <td>10</td>\n",
       "      <td>5</td>\n",
       "      <td>4d5c57ea9a6940dd891ad53e9dbe8da0</td>\n",
       "      <td>bogo</td>\n",
       "      <td>10</td>\n",
       "      <td>1</td>\n",
       "      <td>0</td>\n",
       "      <td>0</td>\n",
       "    </tr>\n",
       "    <tr>\n",
       "      <th>2</th>\n",
       "      <td>[web, email, mobile]</td>\n",
       "      <td>0</td>\n",
       "      <td>4</td>\n",
       "      <td>3f207df678b143eea3cee63160fa8bed</td>\n",
       "      <td>informational</td>\n",
       "      <td>0</td>\n",
       "      <td>0</td>\n",
       "      <td>0</td>\n",
       "      <td>1</td>\n",
       "    </tr>\n",
       "    <tr>\n",
       "      <th>3</th>\n",
       "      <td>[web, email, mobile]</td>\n",
       "      <td>5</td>\n",
       "      <td>7</td>\n",
       "      <td>9b98b8c7a33c4b65b9aebfe6a799e6d9</td>\n",
       "      <td>bogo</td>\n",
       "      <td>5</td>\n",
       "      <td>1</td>\n",
       "      <td>0</td>\n",
       "      <td>0</td>\n",
       "    </tr>\n",
       "    <tr>\n",
       "      <th>4</th>\n",
       "      <td>[web, email]</td>\n",
       "      <td>20</td>\n",
       "      <td>10</td>\n",
       "      <td>0b1e1539f2cc45b7b9fa7c272da2e1d7</td>\n",
       "      <td>discount</td>\n",
       "      <td>5</td>\n",
       "      <td>0</td>\n",
       "      <td>1</td>\n",
       "      <td>0</td>\n",
       "    </tr>\n",
       "  </tbody>\n",
       "</table>\n",
       "</div>"
      ],
      "text/plain": [
       "                       channels  difficulty  duration  \\\n",
       "0       [email, mobile, social]          10         7   \n",
       "1  [web, email, mobile, social]          10         5   \n",
       "2          [web, email, mobile]           0         4   \n",
       "3          [web, email, mobile]           5         7   \n",
       "4                  [web, email]          20        10   \n",
       "\n",
       "                                 id     offer_type  reward  bogo  discount  \\\n",
       "0  ae264e3637204a6fb9bb56bc8210ddfd           bogo      10     1         0   \n",
       "1  4d5c57ea9a6940dd891ad53e9dbe8da0           bogo      10     1         0   \n",
       "2  3f207df678b143eea3cee63160fa8bed  informational       0     0         0   \n",
       "3  9b98b8c7a33c4b65b9aebfe6a799e6d9           bogo       5     1         0   \n",
       "4  0b1e1539f2cc45b7b9fa7c272da2e1d7       discount       5     0         1   \n",
       "\n",
       "   informational  \n",
       "0              0  \n",
       "1              0  \n",
       "2              1  \n",
       "3              0  \n",
       "4              0  "
      ]
     },
     "execution_count": 4,
     "metadata": {},
     "output_type": "execute_result"
    }
   ],
   "source": [
    "#Split channels and offer_type into dummy variables\n",
    "dummies = pd.get_dummies(portfolio['offer_type'])\n",
    "print(dummies)\n",
    "\n",
    "#Concat dummy variables to dataframe\n",
    "portfolio = pd.concat([portfolio,dummies],axis=1)\n",
    "\n",
    "#Check if everything went well\n",
    "portfolio.head()"
   ]
  },
  {
   "cell_type": "code",
   "execution_count": 5,
   "metadata": {},
   "outputs": [
    {
     "name": "stdout",
     "output_type": "stream",
     "text": [
      "                       channels  difficulty  duration  \\\n",
      "0       [email, mobile, social]          10         7   \n",
      "1  [web, email, mobile, social]          10         5   \n",
      "2          [web, email, mobile]           0         4   \n",
      "3          [web, email, mobile]           5         7   \n",
      "4                  [web, email]          20        10   \n",
      "\n",
      "                                 id     offer_type  reward  bogo  discount  \\\n",
      "0  ae264e3637204a6fb9bb56bc8210ddfd           bogo      10     1         0   \n",
      "1  4d5c57ea9a6940dd891ad53e9dbe8da0           bogo      10     1         0   \n",
      "2  3f207df678b143eea3cee63160fa8bed  informational       0     0         0   \n",
      "3  9b98b8c7a33c4b65b9aebfe6a799e6d9           bogo       5     1         0   \n",
      "4  0b1e1539f2cc45b7b9fa7c272da2e1d7       discount       5     0         1   \n",
      "\n",
      "   informational  email  mobile  social  web  \n",
      "0              0    1.0     1.0     1.0  0.0  \n",
      "1              0    1.0     1.0     1.0  1.0  \n",
      "2              1    1.0     1.0     0.0  1.0  \n",
      "3              0    1.0     1.0     0.0  1.0  \n",
      "4              0    1.0     0.0     0.0  1.0  \n"
     ]
    }
   ],
   "source": [
    "#Create dummy variables out of \"channels\" column of lists\n",
    "\n",
    "#Create column for every value in list in the \"channels\" column and et the value 1 for it.\n",
    "for i in range(len(portfolio.channels)):\n",
    "    for j in portfolio.loc[i,\"channels\"]:\n",
    "        portfolio.loc[i,j]=1 \n",
    "\n",
    "#Short check\n",
    "portfolio.head()\n",
    "\n",
    "#Fill nan values with 0 \n",
    "portfolio.email=portfolio.email.fillna(0)\n",
    "portfolio.mobile=portfolio.mobile.fillna(0)\n",
    "portfolio.social=portfolio.social.fillna(0)\n",
    "portfolio.web=portfolio.web.fillna(0)\n",
    "\n",
    "#Short check again\n",
    "print(portfolio.head())\n",
    "\n",
    "#Drop the \"channels\" column\n",
    "portfolio = portfolio.drop('channels',axis=1)"
   ]
  },
  {
   "cell_type": "code",
   "execution_count": 6,
   "metadata": {},
   "outputs": [
    {
     "data": {
      "text/html": [
       "<div>\n",
       "<style scoped>\n",
       "    .dataframe tbody tr th:only-of-type {\n",
       "        vertical-align: middle;\n",
       "    }\n",
       "\n",
       "    .dataframe tbody tr th {\n",
       "        vertical-align: top;\n",
       "    }\n",
       "\n",
       "    .dataframe thead th {\n",
       "        text-align: right;\n",
       "    }\n",
       "</style>\n",
       "<table border=\"1\" class=\"dataframe\">\n",
       "  <thead>\n",
       "    <tr style=\"text-align: right;\">\n",
       "      <th></th>\n",
       "      <th>difficulty</th>\n",
       "      <th>duration</th>\n",
       "      <th>offer_id</th>\n",
       "      <th>offer_type</th>\n",
       "      <th>reward</th>\n",
       "      <th>bogo</th>\n",
       "      <th>discount</th>\n",
       "      <th>informational</th>\n",
       "      <th>email</th>\n",
       "      <th>mobile</th>\n",
       "      <th>social</th>\n",
       "      <th>web</th>\n",
       "    </tr>\n",
       "  </thead>\n",
       "  <tbody>\n",
       "    <tr>\n",
       "      <th>0</th>\n",
       "      <td>10</td>\n",
       "      <td>7</td>\n",
       "      <td>ae264e3637204a6fb9bb56bc8210ddfd</td>\n",
       "      <td>bogo</td>\n",
       "      <td>10</td>\n",
       "      <td>1</td>\n",
       "      <td>0</td>\n",
       "      <td>0</td>\n",
       "      <td>1.0</td>\n",
       "      <td>1.0</td>\n",
       "      <td>1.0</td>\n",
       "      <td>0.0</td>\n",
       "    </tr>\n",
       "    <tr>\n",
       "      <th>1</th>\n",
       "      <td>10</td>\n",
       "      <td>5</td>\n",
       "      <td>4d5c57ea9a6940dd891ad53e9dbe8da0</td>\n",
       "      <td>bogo</td>\n",
       "      <td>10</td>\n",
       "      <td>1</td>\n",
       "      <td>0</td>\n",
       "      <td>0</td>\n",
       "      <td>1.0</td>\n",
       "      <td>1.0</td>\n",
       "      <td>1.0</td>\n",
       "      <td>1.0</td>\n",
       "    </tr>\n",
       "    <tr>\n",
       "      <th>2</th>\n",
       "      <td>0</td>\n",
       "      <td>4</td>\n",
       "      <td>3f207df678b143eea3cee63160fa8bed</td>\n",
       "      <td>informational</td>\n",
       "      <td>0</td>\n",
       "      <td>0</td>\n",
       "      <td>0</td>\n",
       "      <td>1</td>\n",
       "      <td>1.0</td>\n",
       "      <td>1.0</td>\n",
       "      <td>0.0</td>\n",
       "      <td>1.0</td>\n",
       "    </tr>\n",
       "    <tr>\n",
       "      <th>3</th>\n",
       "      <td>5</td>\n",
       "      <td>7</td>\n",
       "      <td>9b98b8c7a33c4b65b9aebfe6a799e6d9</td>\n",
       "      <td>bogo</td>\n",
       "      <td>5</td>\n",
       "      <td>1</td>\n",
       "      <td>0</td>\n",
       "      <td>0</td>\n",
       "      <td>1.0</td>\n",
       "      <td>1.0</td>\n",
       "      <td>0.0</td>\n",
       "      <td>1.0</td>\n",
       "    </tr>\n",
       "    <tr>\n",
       "      <th>4</th>\n",
       "      <td>20</td>\n",
       "      <td>10</td>\n",
       "      <td>0b1e1539f2cc45b7b9fa7c272da2e1d7</td>\n",
       "      <td>discount</td>\n",
       "      <td>5</td>\n",
       "      <td>0</td>\n",
       "      <td>1</td>\n",
       "      <td>0</td>\n",
       "      <td>1.0</td>\n",
       "      <td>0.0</td>\n",
       "      <td>0.0</td>\n",
       "      <td>1.0</td>\n",
       "    </tr>\n",
       "  </tbody>\n",
       "</table>\n",
       "</div>"
      ],
      "text/plain": [
       "   difficulty  duration                          offer_id     offer_type  \\\n",
       "0          10         7  ae264e3637204a6fb9bb56bc8210ddfd           bogo   \n",
       "1          10         5  4d5c57ea9a6940dd891ad53e9dbe8da0           bogo   \n",
       "2           0         4  3f207df678b143eea3cee63160fa8bed  informational   \n",
       "3           5         7  9b98b8c7a33c4b65b9aebfe6a799e6d9           bogo   \n",
       "4          20        10  0b1e1539f2cc45b7b9fa7c272da2e1d7       discount   \n",
       "\n",
       "   reward  bogo  discount  informational  email  mobile  social  web  \n",
       "0      10     1         0              0    1.0     1.0     1.0  0.0  \n",
       "1      10     1         0              0    1.0     1.0     1.0  1.0  \n",
       "2       0     0         0              1    1.0     1.0     0.0  1.0  \n",
       "3       5     1         0              0    1.0     1.0     0.0  1.0  \n",
       "4       5     0         1              0    1.0     0.0     0.0  1.0  "
      ]
     },
     "execution_count": 6,
     "metadata": {},
     "output_type": "execute_result"
    }
   ],
   "source": [
    "#Rename ID-column into \"offer_id\"\n",
    "portfolio = portfolio.rename(columns={\"id\":\"offer_id\"})\n",
    "portfolio.head()"
   ]
  },
  {
   "cell_type": "markdown",
   "metadata": {},
   "source": [
    "### 1.2 Profile dataframe "
   ]
  },
  {
   "cell_type": "code",
   "execution_count": 7,
   "metadata": {},
   "outputs": [
    {
     "data": {
      "text/plain": [
       "age                   int64\n",
       "became_member_on      int64\n",
       "gender               object\n",
       "id                   object\n",
       "income              float64\n",
       "dtype: object"
      ]
     },
     "execution_count": 7,
     "metadata": {},
     "output_type": "execute_result"
    }
   ],
   "source": [
    "#Check the first entries\n",
    "profile.head()\n",
    "\n",
    "#Check the data types\n",
    "profile.dtypes"
   ]
  },
  {
   "cell_type": "code",
   "execution_count": 8,
   "metadata": {
    "scrolled": true
   },
   "outputs": [
    {
     "name": "stdout",
     "output_type": "stream",
     "text": [
      "age                    0\n",
      "became_member_on       0\n",
      "gender              2175\n",
      "id                     0\n",
      "income              2175\n",
      "dtype: int64\n",
      "       age  became_member_on gender                                id  income\n",
      "0      118          20170212   None  68be06ca386d4c31939f3a4f0e3dd783     NaN\n",
      "2      118          20180712   None  38fe809add3b4fcf9315a9694bb96ff5     NaN\n",
      "4      118          20170804   None  a03223e636434f42ac4c3df47e8bac43     NaN\n",
      "6      118          20170925   None  8ec6ce2a7e7949b1bf142def7d0e0586     NaN\n",
      "7      118          20171002   None  68617ca6246f4fbc85e91a2a49552598     NaN\n",
      "9      118          20161122   None  8974fc5686fe429db53ddde067b88302     NaN\n",
      "10     118          20170824   None  c4863c7985cf408faee930f111475da3     NaN\n",
      "11     118          20150919   None  148adfcaa27d485b82f323aaaad036bd     NaN\n",
      "17     118          20170801   None  744d603ef08c4f33af5a61c8c7628d1c     NaN\n",
      "23     118          20170907   None  2b826eba31074a059d63b0ae8f50b7d5     NaN\n",
      "26     118          20170330   None  65aba5c617294649aeb624da249e1ee5     NaN\n",
      "36     118          20160707   None  4beeb3ed64dd4898b0edf2f6b67426d3     NaN\n",
      "39     118          20180113   None  25c906289d154b66bf579693f89481c9     NaN\n",
      "44     118          20141111   None  5b8f1f0e0930464f93bb55e59b5a04e0     NaN\n",
      "45     118          20170511   None  8be4463721e14d7fa600686bf8c8b2ed     NaN\n",
      "54     118          20170528   None  81ac76e4f2fe4a6bb5ebdc0f19cecc56     NaN\n",
      "56     118          20171013   None  020d3a52b9ce432ea5f98fc58e9bfcc4     NaN\n",
      "57     118          20151220   None  4be1127413db496d8103c783ae72058b     NaN\n",
      "80     118          20170918   None  9d8d6bb2fc544a9c802888971ee3e8b1     NaN\n",
      "84     118          20150920   None  a89752cdfdf24779aa22faa2bc24e7c2     NaN\n",
      "96     118          20160806   None  53bac762af27471eb294ff89ca1bae2c     NaN\n",
      "103    118          20170223   None  488773cae11f4b71875bfccd4e3e99f2     NaN\n",
      "104    118          20170823   None  182e68952b474700b171e21b85c258ac     NaN\n",
      "108    118          20160130   None  5e9c83e8ab4d4e9ca83f3256d83ca756     NaN\n",
      "121    118          20150730   None  c099206f76b1414db7552f163520053c     NaN\n",
      "122    118          20171125   None  e6d3eebb535e44aca1323edde5c346fa     NaN\n",
      "128    118          20160418   None  baba98dba43e42ae8e86cbd70725e201     NaN\n",
      "143    118          20161018   None  58748c1cf9f746838c6ec62acdff28ad     NaN\n",
      "169    118          20150905   None  770df32893694100afc703ea9c9df401     NaN\n",
      "172    118          20180114   None  50b92ea51e2649dfbf7120d5e554e991     NaN\n",
      "...    ...               ...    ...                               ...     ...\n",
      "16820  118          20151015   None  64257cb56316491fae38e62f2687a66c     NaN\n",
      "16829  118          20171007   None  56a0b671fa0347beb8b60011a15800aa     NaN\n",
      "16831  118          20170910   None  060c0b9181674d03aa181b75353b9422     NaN\n",
      "16835  118          20161211   None  587453e2944b4c6699519a217bf87de6     NaN\n",
      "16839  118          20180626   None  d6063a30185b4e60b58a445bacec5f56     NaN\n",
      "16842  118          20151110   None  a225189b10a141d5bb1ff0a05265da4c     NaN\n",
      "16844  118          20170228   None  4342cb3414534aaca96ac523edc82654     NaN\n",
      "16845  118          20150815   None  d1477e69857f42d18929f6f29b3be427     NaN\n",
      "16852  118          20140605   None  6c0df9b1d3b8401c8098c7c7f9977d89     NaN\n",
      "16853  118          20171123   None  7b3b8100d6444861803cefc6b13c9a43     NaN\n",
      "16856  118          20150729   None  3a02d786fbc143edb257665ad54c5c09     NaN\n",
      "16861  118          20171212   None  8f4364144e0548f885b390f28aabe2b8     NaN\n",
      "16869  118          20160607   None  1efb4a45f5c34db4b07ebd19bdfc1b41     NaN\n",
      "16875  118          20170129   None  113f3f07ac2b4f8b940d6136233ae3ee     NaN\n",
      "16877  118          20180307   None  b6f74fc8e1664cfb9b44834dd9f7cf48     NaN\n",
      "16885  118          20150804   None  123ec648e228460589182607c0db4dd5     NaN\n",
      "16906  118          20170729   None  09f61d1d6e05402ca923d614dda52d57     NaN\n",
      "16915  118          20171021   None  7b32b3085ad540a58482c091b1dca914     NaN\n",
      "16923  118          20160209   None  54ed2d25754a486fba36eb5c7541203a     NaN\n",
      "16931  118          20170913   None  e6843a4996574eb693ab864ecc406d56     NaN\n",
      "16942  118          20170728   None  ba12d53863b3456f930ac62e2503fe48     NaN\n",
      "16951  118          20171029   None  5ca2620962114246ab218fc648eb3934     NaN\n",
      "16953  118          20170901   None  653d8f383fab43d4a93b10b02bd67266     NaN\n",
      "16969  118          20131212   None  f19d9482309d4e93ad74935f9e46e44c     NaN\n",
      "16977  118          20160609   None  eb7dd979f4644052a5c401a01f129132     NaN\n",
      "16980  118          20160901   None  5c686d09ca4d475a8f750f2ba07e0440     NaN\n",
      "16982  118          20160415   None  d9ca82f550ac4ee58b6299cf1e5c824a     NaN\n",
      "16989  118          20180305   None  ca45ee1883624304bac1e4c8a114f045     NaN\n",
      "16991  118          20160116   None  a9a20fa8b5504360beb4e7c8712f8306     NaN\n",
      "16994  118          20151211   None  c02b10e8752c4d8e9b73f918558531f7     NaN\n",
      "\n",
      "[2175 rows x 5 columns]\n",
      "age                 2175\n",
      "became_member_on    2175\n",
      "gender                 0\n",
      "id                  2175\n",
      "income                 0\n",
      "dtype: int64\n",
      "age                 0\n",
      "became_member_on    0\n",
      "gender              0\n",
      "id                  0\n",
      "income              0\n",
      "dtype: int64\n"
     ]
    }
   ],
   "source": [
    "#Check for NaN values\n",
    "print(profile.isna().sum())\n",
    "\n",
    "# Check rows with age of 118\n",
    "print(profile[profile['age']==118])\n",
    "\n",
    "#Check for number\n",
    "print(profile[profile['age']==118].count())\n",
    "\n",
    "#Drop rows with age 118\n",
    "profile = profile.drop(profile[profile['age']==118].index,axis=0)\n",
    "\n",
    "#Check for NaN values\n",
    "print(profile.isna().sum())"
   ]
  },
  {
   "cell_type": "code",
   "execution_count": 9,
   "metadata": {
    "scrolled": true
   },
   "outputs": [
    {
     "data": {
      "text/html": [
       "<div>\n",
       "<style scoped>\n",
       "    .dataframe tbody tr th:only-of-type {\n",
       "        vertical-align: middle;\n",
       "    }\n",
       "\n",
       "    .dataframe tbody tr th {\n",
       "        vertical-align: top;\n",
       "    }\n",
       "\n",
       "    .dataframe thead th {\n",
       "        text-align: right;\n",
       "    }\n",
       "</style>\n",
       "<table border=\"1\" class=\"dataframe\">\n",
       "  <thead>\n",
       "    <tr style=\"text-align: right;\">\n",
       "      <th></th>\n",
       "      <th>age</th>\n",
       "      <th>became_member_on</th>\n",
       "      <th>gender</th>\n",
       "      <th>id</th>\n",
       "      <th>income</th>\n",
       "    </tr>\n",
       "  </thead>\n",
       "  <tbody>\n",
       "    <tr>\n",
       "      <th>1</th>\n",
       "      <td>55</td>\n",
       "      <td>2017-07-15</td>\n",
       "      <td>F</td>\n",
       "      <td>0610b486422d4921ae7d2bf64640c50b</td>\n",
       "      <td>112000.0</td>\n",
       "    </tr>\n",
       "    <tr>\n",
       "      <th>3</th>\n",
       "      <td>75</td>\n",
       "      <td>2017-05-09</td>\n",
       "      <td>F</td>\n",
       "      <td>78afa995795e4d85b5d9ceeca43f5fef</td>\n",
       "      <td>100000.0</td>\n",
       "    </tr>\n",
       "    <tr>\n",
       "      <th>5</th>\n",
       "      <td>68</td>\n",
       "      <td>2018-04-26</td>\n",
       "      <td>M</td>\n",
       "      <td>e2127556f4f64592b11af22de27a7932</td>\n",
       "      <td>70000.0</td>\n",
       "    </tr>\n",
       "    <tr>\n",
       "      <th>8</th>\n",
       "      <td>65</td>\n",
       "      <td>2018-02-09</td>\n",
       "      <td>M</td>\n",
       "      <td>389bc3fa690240e798340f5a15918d5c</td>\n",
       "      <td>53000.0</td>\n",
       "    </tr>\n",
       "    <tr>\n",
       "      <th>12</th>\n",
       "      <td>58</td>\n",
       "      <td>2017-11-11</td>\n",
       "      <td>M</td>\n",
       "      <td>2eeac8d8feae4a8cad5a6af0499a211d</td>\n",
       "      <td>51000.0</td>\n",
       "    </tr>\n",
       "  </tbody>\n",
       "</table>\n",
       "</div>"
      ],
      "text/plain": [
       "    age became_member_on gender                                id    income\n",
       "1    55       2017-07-15      F  0610b486422d4921ae7d2bf64640c50b  112000.0\n",
       "3    75       2017-05-09      F  78afa995795e4d85b5d9ceeca43f5fef  100000.0\n",
       "5    68       2018-04-26      M  e2127556f4f64592b11af22de27a7932   70000.0\n",
       "8    65       2018-02-09      M  389bc3fa690240e798340f5a15918d5c   53000.0\n",
       "12   58       2017-11-11      M  2eeac8d8feae4a8cad5a6af0499a211d   51000.0"
      ]
     },
     "execution_count": 9,
     "metadata": {},
     "output_type": "execute_result"
    }
   ],
   "source": [
    "#Change format of the date\n",
    "profile.became_member_on=profile.became_member_on.astype(str)\n",
    "profile.loc[:,'became_member_on'] = profile.loc[:,'became_member_on'].str[:4]+'-'+profile.loc[:,'became_member_on'].str[4:6]+'-'+profile.loc[:,'became_member_on'].str[6:]\n",
    "profile.head()"
   ]
  },
  {
   "cell_type": "code",
   "execution_count": 10,
   "metadata": {},
   "outputs": [],
   "source": [
    "#Create year-month column out of \"became_member_on\" date\n",
    "profile[\"became_member_on\"] = pd.to_datetime(profile[\"became_member_on\"])\n",
    "profile[\"membership_year\"] = profile['became_member_on'].dt.strftime(\"%Y\")\n",
    "profile[\"membership_year_month\"] = profile['became_member_on'].dt.strftime(\"%Y-%m\")"
   ]
  },
  {
   "cell_type": "code",
   "execution_count": 11,
   "metadata": {},
   "outputs": [
    {
     "data": {
      "text/html": [
       "<div>\n",
       "<style scoped>\n",
       "    .dataframe tbody tr th:only-of-type {\n",
       "        vertical-align: middle;\n",
       "    }\n",
       "\n",
       "    .dataframe tbody tr th {\n",
       "        vertical-align: top;\n",
       "    }\n",
       "\n",
       "    .dataframe thead th {\n",
       "        text-align: right;\n",
       "    }\n",
       "</style>\n",
       "<table border=\"1\" class=\"dataframe\">\n",
       "  <thead>\n",
       "    <tr style=\"text-align: right;\">\n",
       "      <th></th>\n",
       "      <th>age</th>\n",
       "      <th>became_member_on</th>\n",
       "      <th>gender</th>\n",
       "      <th>customer_id</th>\n",
       "      <th>income</th>\n",
       "      <th>membership_year</th>\n",
       "      <th>membership_year_month</th>\n",
       "    </tr>\n",
       "  </thead>\n",
       "  <tbody>\n",
       "    <tr>\n",
       "      <th>1</th>\n",
       "      <td>55</td>\n",
       "      <td>2017-07-15</td>\n",
       "      <td>F</td>\n",
       "      <td>0610b486422d4921ae7d2bf64640c50b</td>\n",
       "      <td>112000.0</td>\n",
       "      <td>2017</td>\n",
       "      <td>2017-07</td>\n",
       "    </tr>\n",
       "    <tr>\n",
       "      <th>3</th>\n",
       "      <td>75</td>\n",
       "      <td>2017-05-09</td>\n",
       "      <td>F</td>\n",
       "      <td>78afa995795e4d85b5d9ceeca43f5fef</td>\n",
       "      <td>100000.0</td>\n",
       "      <td>2017</td>\n",
       "      <td>2017-05</td>\n",
       "    </tr>\n",
       "    <tr>\n",
       "      <th>5</th>\n",
       "      <td>68</td>\n",
       "      <td>2018-04-26</td>\n",
       "      <td>M</td>\n",
       "      <td>e2127556f4f64592b11af22de27a7932</td>\n",
       "      <td>70000.0</td>\n",
       "      <td>2018</td>\n",
       "      <td>2018-04</td>\n",
       "    </tr>\n",
       "    <tr>\n",
       "      <th>8</th>\n",
       "      <td>65</td>\n",
       "      <td>2018-02-09</td>\n",
       "      <td>M</td>\n",
       "      <td>389bc3fa690240e798340f5a15918d5c</td>\n",
       "      <td>53000.0</td>\n",
       "      <td>2018</td>\n",
       "      <td>2018-02</td>\n",
       "    </tr>\n",
       "    <tr>\n",
       "      <th>12</th>\n",
       "      <td>58</td>\n",
       "      <td>2017-11-11</td>\n",
       "      <td>M</td>\n",
       "      <td>2eeac8d8feae4a8cad5a6af0499a211d</td>\n",
       "      <td>51000.0</td>\n",
       "      <td>2017</td>\n",
       "      <td>2017-11</td>\n",
       "    </tr>\n",
       "  </tbody>\n",
       "</table>\n",
       "</div>"
      ],
      "text/plain": [
       "    age became_member_on gender                       customer_id    income  \\\n",
       "1    55       2017-07-15      F  0610b486422d4921ae7d2bf64640c50b  112000.0   \n",
       "3    75       2017-05-09      F  78afa995795e4d85b5d9ceeca43f5fef  100000.0   \n",
       "5    68       2018-04-26      M  e2127556f4f64592b11af22de27a7932   70000.0   \n",
       "8    65       2018-02-09      M  389bc3fa690240e798340f5a15918d5c   53000.0   \n",
       "12   58       2017-11-11      M  2eeac8d8feae4a8cad5a6af0499a211d   51000.0   \n",
       "\n",
       "   membership_year membership_year_month  \n",
       "1             2017               2017-07  \n",
       "3             2017               2017-05  \n",
       "5             2018               2018-04  \n",
       "8             2018               2018-02  \n",
       "12            2017               2017-11  "
      ]
     },
     "execution_count": 11,
     "metadata": {},
     "output_type": "execute_result"
    }
   ],
   "source": [
    "#Rename ID-column in \"customer_id\"\n",
    "profile = profile.rename(columns={\"id\":\"customer_id\"})\n",
    "profile.head()"
   ]
  },
  {
   "cell_type": "markdown",
   "metadata": {},
   "source": [
    "### 1.3 Transcript dataframe"
   ]
  },
  {
   "cell_type": "code",
   "execution_count": 12,
   "metadata": {},
   "outputs": [
    {
     "name": "stdout",
     "output_type": "stream",
     "text": [
      "            event                            person  time  \\\n",
      "0  offer received  78afa995795e4d85b5d9ceeca43f5fef     0   \n",
      "1  offer received  a03223e636434f42ac4c3df47e8bac43     0   \n",
      "2  offer received  e2127556f4f64592b11af22de27a7932     0   \n",
      "3  offer received  8ec6ce2a7e7949b1bf142def7d0e0586     0   \n",
      "4  offer received  68617ca6246f4fbc85e91a2a49552598     0   \n",
      "\n",
      "                                              value  \n",
      "0  {'offer id': '9b98b8c7a33c4b65b9aebfe6a799e6d9'}  \n",
      "1  {'offer id': '0b1e1539f2cc45b7b9fa7c272da2e1d7'}  \n",
      "2  {'offer id': '2906b810c7d4411798c6938adc9daaa5'}  \n",
      "3  {'offer id': 'fafdcd668e3743c1bb461111dcafc2a4'}  \n",
      "4  {'offer id': '4d5c57ea9a6940dd891ad53e9dbe8da0'}  \n",
      "event     object\n",
      "person    object\n",
      "time       int64\n",
      "value     object\n",
      "dtype: object\n"
     ]
    }
   ],
   "source": [
    "#Check the first entries\n",
    "print(transcript.head())\n",
    "\n",
    "#Check the data types\n",
    "print(transcript.dtypes)"
   ]
  },
  {
   "cell_type": "code",
   "execution_count": 13,
   "metadata": {},
   "outputs": [
    {
     "name": "stdout",
     "output_type": "stream",
     "text": [
      "        offer completed  offer received  offer viewed  transaction\n",
      "0                     0               1             0            0\n",
      "1                     0               1             0            0\n",
      "2                     0               1             0            0\n",
      "3                     0               1             0            0\n",
      "4                     0               1             0            0\n",
      "5                     0               1             0            0\n",
      "6                     0               1             0            0\n",
      "7                     0               1             0            0\n",
      "8                     0               1             0            0\n",
      "9                     0               1             0            0\n",
      "10                    0               1             0            0\n",
      "11                    0               1             0            0\n",
      "12                    0               1             0            0\n",
      "13                    0               1             0            0\n",
      "14                    0               1             0            0\n",
      "15                    0               1             0            0\n",
      "16                    0               1             0            0\n",
      "17                    0               1             0            0\n",
      "18                    0               1             0            0\n",
      "19                    0               1             0            0\n",
      "20                    0               1             0            0\n",
      "21                    0               1             0            0\n",
      "22                    0               1             0            0\n",
      "23                    0               1             0            0\n",
      "24                    0               1             0            0\n",
      "25                    0               1             0            0\n",
      "26                    0               1             0            0\n",
      "27                    0               1             0            0\n",
      "28                    0               1             0            0\n",
      "29                    0               1             0            0\n",
      "...                 ...             ...           ...          ...\n",
      "306504                0               0             0            1\n",
      "306505                0               0             0            1\n",
      "306506                1               0             0            0\n",
      "306507                0               0             1            0\n",
      "306508                0               0             0            1\n",
      "306509                1               0             0            0\n",
      "306510                0               0             0            1\n",
      "306511                0               0             0            1\n",
      "306512                0               0             0            1\n",
      "306513                0               0             0            1\n",
      "306514                0               0             0            1\n",
      "306515                0               0             0            1\n",
      "306516                0               0             0            1\n",
      "306517                0               0             0            1\n",
      "306518                0               0             0            1\n",
      "306519                0               0             0            1\n",
      "306520                0               0             0            1\n",
      "306521                0               0             0            1\n",
      "306522                0               0             0            1\n",
      "306523                0               0             0            1\n",
      "306524                0               0             0            1\n",
      "306525                0               0             0            1\n",
      "306526                0               0             0            1\n",
      "306527                1               0             0            0\n",
      "306528                0               0             0            1\n",
      "306529                0               0             0            1\n",
      "306530                0               0             0            1\n",
      "306531                0               0             0            1\n",
      "306532                0               0             0            1\n",
      "306533                0               0             0            1\n",
      "\n",
      "[306534 rows x 4 columns]\n"
     ]
    },
    {
     "data": {
      "text/html": [
       "<div>\n",
       "<style scoped>\n",
       "    .dataframe tbody tr th:only-of-type {\n",
       "        vertical-align: middle;\n",
       "    }\n",
       "\n",
       "    .dataframe tbody tr th {\n",
       "        vertical-align: top;\n",
       "    }\n",
       "\n",
       "    .dataframe thead th {\n",
       "        text-align: right;\n",
       "    }\n",
       "</style>\n",
       "<table border=\"1\" class=\"dataframe\">\n",
       "  <thead>\n",
       "    <tr style=\"text-align: right;\">\n",
       "      <th></th>\n",
       "      <th>event</th>\n",
       "      <th>person</th>\n",
       "      <th>time</th>\n",
       "      <th>value</th>\n",
       "      <th>offer completed</th>\n",
       "      <th>offer received</th>\n",
       "      <th>offer viewed</th>\n",
       "      <th>transaction</th>\n",
       "    </tr>\n",
       "  </thead>\n",
       "  <tbody>\n",
       "    <tr>\n",
       "      <th>0</th>\n",
       "      <td>offer received</td>\n",
       "      <td>78afa995795e4d85b5d9ceeca43f5fef</td>\n",
       "      <td>0</td>\n",
       "      <td>{'offer id': '9b98b8c7a33c4b65b9aebfe6a799e6d9'}</td>\n",
       "      <td>0</td>\n",
       "      <td>1</td>\n",
       "      <td>0</td>\n",
       "      <td>0</td>\n",
       "    </tr>\n",
       "    <tr>\n",
       "      <th>1</th>\n",
       "      <td>offer received</td>\n",
       "      <td>a03223e636434f42ac4c3df47e8bac43</td>\n",
       "      <td>0</td>\n",
       "      <td>{'offer id': '0b1e1539f2cc45b7b9fa7c272da2e1d7'}</td>\n",
       "      <td>0</td>\n",
       "      <td>1</td>\n",
       "      <td>0</td>\n",
       "      <td>0</td>\n",
       "    </tr>\n",
       "    <tr>\n",
       "      <th>2</th>\n",
       "      <td>offer received</td>\n",
       "      <td>e2127556f4f64592b11af22de27a7932</td>\n",
       "      <td>0</td>\n",
       "      <td>{'offer id': '2906b810c7d4411798c6938adc9daaa5'}</td>\n",
       "      <td>0</td>\n",
       "      <td>1</td>\n",
       "      <td>0</td>\n",
       "      <td>0</td>\n",
       "    </tr>\n",
       "    <tr>\n",
       "      <th>3</th>\n",
       "      <td>offer received</td>\n",
       "      <td>8ec6ce2a7e7949b1bf142def7d0e0586</td>\n",
       "      <td>0</td>\n",
       "      <td>{'offer id': 'fafdcd668e3743c1bb461111dcafc2a4'}</td>\n",
       "      <td>0</td>\n",
       "      <td>1</td>\n",
       "      <td>0</td>\n",
       "      <td>0</td>\n",
       "    </tr>\n",
       "    <tr>\n",
       "      <th>4</th>\n",
       "      <td>offer received</td>\n",
       "      <td>68617ca6246f4fbc85e91a2a49552598</td>\n",
       "      <td>0</td>\n",
       "      <td>{'offer id': '4d5c57ea9a6940dd891ad53e9dbe8da0'}</td>\n",
       "      <td>0</td>\n",
       "      <td>1</td>\n",
       "      <td>0</td>\n",
       "      <td>0</td>\n",
       "    </tr>\n",
       "  </tbody>\n",
       "</table>\n",
       "</div>"
      ],
      "text/plain": [
       "            event                            person  time  \\\n",
       "0  offer received  78afa995795e4d85b5d9ceeca43f5fef     0   \n",
       "1  offer received  a03223e636434f42ac4c3df47e8bac43     0   \n",
       "2  offer received  e2127556f4f64592b11af22de27a7932     0   \n",
       "3  offer received  8ec6ce2a7e7949b1bf142def7d0e0586     0   \n",
       "4  offer received  68617ca6246f4fbc85e91a2a49552598     0   \n",
       "\n",
       "                                              value  offer completed  \\\n",
       "0  {'offer id': '9b98b8c7a33c4b65b9aebfe6a799e6d9'}                0   \n",
       "1  {'offer id': '0b1e1539f2cc45b7b9fa7c272da2e1d7'}                0   \n",
       "2  {'offer id': '2906b810c7d4411798c6938adc9daaa5'}                0   \n",
       "3  {'offer id': 'fafdcd668e3743c1bb461111dcafc2a4'}                0   \n",
       "4  {'offer id': '4d5c57ea9a6940dd891ad53e9dbe8da0'}                0   \n",
       "\n",
       "   offer received  offer viewed  transaction  \n",
       "0               1             0            0  \n",
       "1               1             0            0  \n",
       "2               1             0            0  \n",
       "3               1             0            0  \n",
       "4               1             0            0  "
      ]
     },
     "execution_count": 13,
     "metadata": {},
     "output_type": "execute_result"
    }
   ],
   "source": [
    "#Create dummy variables out of \"event\" column\n",
    "dummies = pd.get_dummies(transcript.event)\n",
    "print(dummies)\n",
    "\n",
    "#Concat the dummies with the dataframe\n",
    "transcript = pd.concat([transcript,dummies],axis=1)\n",
    "transcript.head()"
   ]
  },
  {
   "cell_type": "code",
   "execution_count": 14,
   "metadata": {
    "scrolled": true
   },
   "outputs": [
    {
     "ename": "KeyboardInterrupt",
     "evalue": "",
     "output_type": "error",
     "traceback": [
      "\u001b[0;31m---------------------------------------------------------------------------\u001b[0m",
      "\u001b[0;31mKeyboardInterrupt\u001b[0m                         Traceback (most recent call last)",
      "\u001b[0;32m<ipython-input-14-c879a95347bd>\u001b[0m in \u001b[0;36m<module>\u001b[0;34m()\u001b[0m\n\u001b[1;32m      4\u001b[0m     \u001b[0;31m#print(b.loc[i,\"value\"].keys())\u001b[0m\u001b[0;34m\u001b[0m\u001b[0;34m\u001b[0m\u001b[0m\n\u001b[1;32m      5\u001b[0m     \u001b[0;32mif\u001b[0m \u001b[0;34m(\u001b[0m\u001b[0mlist\u001b[0m\u001b[0;34m(\u001b[0m\u001b[0mtranscript\u001b[0m\u001b[0;34m.\u001b[0m\u001b[0mloc\u001b[0m\u001b[0;34m[\u001b[0m\u001b[0mi\u001b[0m\u001b[0;34m,\u001b[0m\u001b[0;34m'value'\u001b[0m\u001b[0;34m]\u001b[0m\u001b[0;34m.\u001b[0m\u001b[0mkeys\u001b[0m\u001b[0;34m(\u001b[0m\u001b[0;34m)\u001b[0m\u001b[0;34m)\u001b[0m\u001b[0;34m[\u001b[0m\u001b[0;36m0\u001b[0m\u001b[0;34m]\u001b[0m \u001b[0;34m==\u001b[0m \u001b[0;34m'offer_id'\u001b[0m\u001b[0;34m)\u001b[0m \u001b[0;34m|\u001b[0m \u001b[0;34m(\u001b[0m\u001b[0mlist\u001b[0m\u001b[0;34m(\u001b[0m\u001b[0mtranscript\u001b[0m\u001b[0;34m.\u001b[0m\u001b[0mloc\u001b[0m\u001b[0;34m[\u001b[0m\u001b[0mi\u001b[0m\u001b[0;34m,\u001b[0m\u001b[0;34m'value'\u001b[0m\u001b[0;34m]\u001b[0m\u001b[0;34m.\u001b[0m\u001b[0mkeys\u001b[0m\u001b[0;34m(\u001b[0m\u001b[0;34m)\u001b[0m\u001b[0;34m)\u001b[0m\u001b[0;34m[\u001b[0m\u001b[0;36m0\u001b[0m\u001b[0;34m]\u001b[0m \u001b[0;34m==\u001b[0m \u001b[0;34m'offer id'\u001b[0m\u001b[0;34m)\u001b[0m\u001b[0;34m:\u001b[0m\u001b[0;34m\u001b[0m\u001b[0m\n\u001b[0;32m----> 6\u001b[0;31m         \u001b[0mtranscript\u001b[0m\u001b[0;34m.\u001b[0m\u001b[0mloc\u001b[0m\u001b[0;34m[\u001b[0m\u001b[0mi\u001b[0m\u001b[0;34m,\u001b[0m\u001b[0;34m\"offer_id\"\u001b[0m\u001b[0;34m]\u001b[0m\u001b[0;34m=\u001b[0m \u001b[0mlist\u001b[0m\u001b[0;34m(\u001b[0m\u001b[0mtranscript\u001b[0m\u001b[0;34m.\u001b[0m\u001b[0mloc\u001b[0m\u001b[0;34m[\u001b[0m\u001b[0mi\u001b[0m\u001b[0;34m,\u001b[0m\u001b[0;34m'value'\u001b[0m\u001b[0;34m]\u001b[0m\u001b[0;34m.\u001b[0m\u001b[0mvalues\u001b[0m\u001b[0;34m(\u001b[0m\u001b[0;34m)\u001b[0m\u001b[0;34m)\u001b[0m\u001b[0;34m[\u001b[0m\u001b[0;36m0\u001b[0m\u001b[0;34m]\u001b[0m\u001b[0;34m\u001b[0m\u001b[0m\n\u001b[0m\u001b[1;32m      7\u001b[0m         \u001b[0;31m#print(\"offer\")\u001b[0m\u001b[0;34m\u001b[0m\u001b[0;34m\u001b[0m\u001b[0m\n\u001b[1;32m      8\u001b[0m     \u001b[0;32melif\u001b[0m \u001b[0mlist\u001b[0m\u001b[0;34m(\u001b[0m\u001b[0mtranscript\u001b[0m\u001b[0;34m.\u001b[0m\u001b[0mloc\u001b[0m\u001b[0;34m[\u001b[0m\u001b[0mi\u001b[0m\u001b[0;34m,\u001b[0m\u001b[0;34m'value'\u001b[0m\u001b[0;34m]\u001b[0m\u001b[0;34m.\u001b[0m\u001b[0mkeys\u001b[0m\u001b[0;34m(\u001b[0m\u001b[0;34m)\u001b[0m\u001b[0;34m)\u001b[0m\u001b[0;34m[\u001b[0m\u001b[0;36m0\u001b[0m\u001b[0;34m]\u001b[0m \u001b[0;34m==\u001b[0m \u001b[0;34m'amount'\u001b[0m\u001b[0;34m:\u001b[0m\u001b[0;34m\u001b[0m\u001b[0m\n",
      "\u001b[0;32m/opt/conda/lib/python3.6/site-packages/pandas/core/indexing.py\u001b[0m in \u001b[0;36m__setitem__\u001b[0;34m(self, key, value)\u001b[0m\n\u001b[1;32m    187\u001b[0m             \u001b[0mkey\u001b[0m \u001b[0;34m=\u001b[0m \u001b[0mcom\u001b[0m\u001b[0;34m.\u001b[0m\u001b[0m_apply_if_callable\u001b[0m\u001b[0;34m(\u001b[0m\u001b[0mkey\u001b[0m\u001b[0;34m,\u001b[0m \u001b[0mself\u001b[0m\u001b[0;34m.\u001b[0m\u001b[0mobj\u001b[0m\u001b[0;34m)\u001b[0m\u001b[0;34m\u001b[0m\u001b[0m\n\u001b[1;32m    188\u001b[0m         \u001b[0mindexer\u001b[0m \u001b[0;34m=\u001b[0m \u001b[0mself\u001b[0m\u001b[0;34m.\u001b[0m\u001b[0m_get_setitem_indexer\u001b[0m\u001b[0;34m(\u001b[0m\u001b[0mkey\u001b[0m\u001b[0;34m)\u001b[0m\u001b[0;34m\u001b[0m\u001b[0m\n\u001b[0;32m--> 189\u001b[0;31m         \u001b[0mself\u001b[0m\u001b[0;34m.\u001b[0m\u001b[0m_setitem_with_indexer\u001b[0m\u001b[0;34m(\u001b[0m\u001b[0mindexer\u001b[0m\u001b[0;34m,\u001b[0m \u001b[0mvalue\u001b[0m\u001b[0;34m)\u001b[0m\u001b[0;34m\u001b[0m\u001b[0m\n\u001b[0m\u001b[1;32m    190\u001b[0m \u001b[0;34m\u001b[0m\u001b[0m\n\u001b[1;32m    191\u001b[0m     \u001b[0;32mdef\u001b[0m \u001b[0m_validate_key\u001b[0m\u001b[0;34m(\u001b[0m\u001b[0mself\u001b[0m\u001b[0;34m,\u001b[0m \u001b[0mkey\u001b[0m\u001b[0;34m,\u001b[0m \u001b[0maxis\u001b[0m\u001b[0;34m)\u001b[0m\u001b[0;34m:\u001b[0m\u001b[0;34m\u001b[0m\u001b[0m\n",
      "\u001b[0;32m/opt/conda/lib/python3.6/site-packages/pandas/core/indexing.py\u001b[0m in \u001b[0;36m_setitem_with_indexer\u001b[0;34m(self, indexer, value)\u001b[0m\n\u001b[1;32m    613\u001b[0m                 \u001b[0;31m# scalar\u001b[0m\u001b[0;34m\u001b[0m\u001b[0;34m\u001b[0m\u001b[0m\n\u001b[1;32m    614\u001b[0m                 \u001b[0;32mfor\u001b[0m \u001b[0mitem\u001b[0m \u001b[0;32min\u001b[0m \u001b[0mlabels\u001b[0m\u001b[0;34m:\u001b[0m\u001b[0;34m\u001b[0m\u001b[0m\n\u001b[0;32m--> 615\u001b[0;31m                     \u001b[0msetter\u001b[0m\u001b[0;34m(\u001b[0m\u001b[0mitem\u001b[0m\u001b[0;34m,\u001b[0m \u001b[0mvalue\u001b[0m\u001b[0;34m)\u001b[0m\u001b[0;34m\u001b[0m\u001b[0m\n\u001b[0m\u001b[1;32m    616\u001b[0m \u001b[0;34m\u001b[0m\u001b[0m\n\u001b[1;32m    617\u001b[0m         \u001b[0;32melse\u001b[0m\u001b[0;34m:\u001b[0m\u001b[0;34m\u001b[0m\u001b[0m\n",
      "\u001b[0;32m/opt/conda/lib/python3.6/site-packages/pandas/core/indexing.py\u001b[0m in \u001b[0;36msetter\u001b[0;34m(item, v)\u001b[0m\n\u001b[1;32m    536\u001b[0m                     \u001b[0;31m# set the item, possibly having a dtype change\u001b[0m\u001b[0;34m\u001b[0m\u001b[0;34m\u001b[0m\u001b[0m\n\u001b[1;32m    537\u001b[0m                     \u001b[0ms\u001b[0m\u001b[0;34m.\u001b[0m\u001b[0m_consolidate_inplace\u001b[0m\u001b[0;34m(\u001b[0m\u001b[0;34m)\u001b[0m\u001b[0;34m\u001b[0m\u001b[0m\n\u001b[0;32m--> 538\u001b[0;31m                     \u001b[0ms\u001b[0m \u001b[0;34m=\u001b[0m \u001b[0ms\u001b[0m\u001b[0;34m.\u001b[0m\u001b[0mcopy\u001b[0m\u001b[0;34m(\u001b[0m\u001b[0;34m)\u001b[0m\u001b[0;34m\u001b[0m\u001b[0m\n\u001b[0m\u001b[1;32m    539\u001b[0m                     \u001b[0ms\u001b[0m\u001b[0;34m.\u001b[0m\u001b[0m_data\u001b[0m \u001b[0;34m=\u001b[0m \u001b[0ms\u001b[0m\u001b[0;34m.\u001b[0m\u001b[0m_data\u001b[0m\u001b[0;34m.\u001b[0m\u001b[0msetitem\u001b[0m\u001b[0;34m(\u001b[0m\u001b[0mindexer\u001b[0m\u001b[0;34m=\u001b[0m\u001b[0mpi\u001b[0m\u001b[0;34m,\u001b[0m \u001b[0mvalue\u001b[0m\u001b[0;34m=\u001b[0m\u001b[0mv\u001b[0m\u001b[0;34m)\u001b[0m\u001b[0;34m\u001b[0m\u001b[0m\n\u001b[1;32m    540\u001b[0m                     \u001b[0ms\u001b[0m\u001b[0;34m.\u001b[0m\u001b[0m_maybe_update_cacher\u001b[0m\u001b[0;34m(\u001b[0m\u001b[0mclear\u001b[0m\u001b[0;34m=\u001b[0m\u001b[0;32mTrue\u001b[0m\u001b[0;34m)\u001b[0m\u001b[0;34m\u001b[0m\u001b[0m\n",
      "\u001b[0;32m/opt/conda/lib/python3.6/site-packages/pandas/core/generic.py\u001b[0m in \u001b[0;36mcopy\u001b[0;34m(self, deep)\u001b[0m\n\u001b[1;32m   5112\u001b[0m         \u001b[0mdtype\u001b[0m\u001b[0;34m:\u001b[0m \u001b[0mobject\u001b[0m\u001b[0;34m\u001b[0m\u001b[0m\n\u001b[1;32m   5113\u001b[0m         \"\"\"\n\u001b[0;32m-> 5114\u001b[0;31m         \u001b[0mdata\u001b[0m \u001b[0;34m=\u001b[0m \u001b[0mself\u001b[0m\u001b[0;34m.\u001b[0m\u001b[0m_data\u001b[0m\u001b[0;34m.\u001b[0m\u001b[0mcopy\u001b[0m\u001b[0;34m(\u001b[0m\u001b[0mdeep\u001b[0m\u001b[0;34m=\u001b[0m\u001b[0mdeep\u001b[0m\u001b[0;34m)\u001b[0m\u001b[0;34m\u001b[0m\u001b[0m\n\u001b[0m\u001b[1;32m   5115\u001b[0m         \u001b[0;32mreturn\u001b[0m \u001b[0mself\u001b[0m\u001b[0;34m.\u001b[0m\u001b[0m_constructor\u001b[0m\u001b[0;34m(\u001b[0m\u001b[0mdata\u001b[0m\u001b[0;34m)\u001b[0m\u001b[0;34m.\u001b[0m\u001b[0m__finalize__\u001b[0m\u001b[0;34m(\u001b[0m\u001b[0mself\u001b[0m\u001b[0;34m)\u001b[0m\u001b[0;34m\u001b[0m\u001b[0m\n\u001b[1;32m   5116\u001b[0m \u001b[0;34m\u001b[0m\u001b[0m\n",
      "\u001b[0;32m/opt/conda/lib/python3.6/site-packages/pandas/core/internals.py\u001b[0m in \u001b[0;36mcopy\u001b[0;34m(self, deep, mgr)\u001b[0m\n\u001b[1;32m   3918\u001b[0m             \u001b[0mnew_axes\u001b[0m \u001b[0;34m=\u001b[0m \u001b[0mlist\u001b[0m\u001b[0;34m(\u001b[0m\u001b[0mself\u001b[0m\u001b[0;34m.\u001b[0m\u001b[0maxes\u001b[0m\u001b[0;34m)\u001b[0m\u001b[0;34m\u001b[0m\u001b[0m\n\u001b[1;32m   3919\u001b[0m         return self.apply('copy', axes=new_axes, deep=deep,\n\u001b[0;32m-> 3920\u001b[0;31m                           do_integrity_check=False)\n\u001b[0m\u001b[1;32m   3921\u001b[0m \u001b[0;34m\u001b[0m\u001b[0m\n\u001b[1;32m   3922\u001b[0m     \u001b[0;32mdef\u001b[0m \u001b[0mas_array\u001b[0m\u001b[0;34m(\u001b[0m\u001b[0mself\u001b[0m\u001b[0;34m,\u001b[0m \u001b[0mtranspose\u001b[0m\u001b[0;34m=\u001b[0m\u001b[0;32mFalse\u001b[0m\u001b[0;34m,\u001b[0m \u001b[0mitems\u001b[0m\u001b[0;34m=\u001b[0m\u001b[0;32mNone\u001b[0m\u001b[0;34m)\u001b[0m\u001b[0;34m:\u001b[0m\u001b[0;34m\u001b[0m\u001b[0m\n",
      "\u001b[0;32m/opt/conda/lib/python3.6/site-packages/pandas/core/internals.py\u001b[0m in \u001b[0;36mapply\u001b[0;34m(self, f, axes, filter, do_integrity_check, consolidate, **kwargs)\u001b[0m\n\u001b[1;32m   3579\u001b[0m \u001b[0;34m\u001b[0m\u001b[0m\n\u001b[1;32m   3580\u001b[0m             \u001b[0mkwargs\u001b[0m\u001b[0;34m[\u001b[0m\u001b[0;34m'mgr'\u001b[0m\u001b[0;34m]\u001b[0m \u001b[0;34m=\u001b[0m \u001b[0mself\u001b[0m\u001b[0;34m\u001b[0m\u001b[0m\n\u001b[0;32m-> 3581\u001b[0;31m             \u001b[0mapplied\u001b[0m \u001b[0;34m=\u001b[0m \u001b[0mgetattr\u001b[0m\u001b[0;34m(\u001b[0m\u001b[0mb\u001b[0m\u001b[0;34m,\u001b[0m \u001b[0mf\u001b[0m\u001b[0;34m)\u001b[0m\u001b[0;34m(\u001b[0m\u001b[0;34m**\u001b[0m\u001b[0mkwargs\u001b[0m\u001b[0;34m)\u001b[0m\u001b[0;34m\u001b[0m\u001b[0m\n\u001b[0m\u001b[1;32m   3582\u001b[0m             \u001b[0mresult_blocks\u001b[0m \u001b[0;34m=\u001b[0m \u001b[0m_extend_blocks\u001b[0m\u001b[0;34m(\u001b[0m\u001b[0mapplied\u001b[0m\u001b[0;34m,\u001b[0m \u001b[0mresult_blocks\u001b[0m\u001b[0;34m)\u001b[0m\u001b[0;34m\u001b[0m\u001b[0m\n\u001b[1;32m   3583\u001b[0m \u001b[0;34m\u001b[0m\u001b[0m\n",
      "\u001b[0;32m/opt/conda/lib/python3.6/site-packages/pandas/core/internals.py\u001b[0m in \u001b[0;36mcopy\u001b[0;34m(self, deep, mgr)\u001b[0m\n\u001b[1;32m    776\u001b[0m         \u001b[0mvalues\u001b[0m \u001b[0;34m=\u001b[0m \u001b[0mself\u001b[0m\u001b[0;34m.\u001b[0m\u001b[0mvalues\u001b[0m\u001b[0;34m\u001b[0m\u001b[0m\n\u001b[1;32m    777\u001b[0m         \u001b[0;32mif\u001b[0m \u001b[0mdeep\u001b[0m\u001b[0;34m:\u001b[0m\u001b[0;34m\u001b[0m\u001b[0m\n\u001b[0;32m--> 778\u001b[0;31m             \u001b[0mvalues\u001b[0m \u001b[0;34m=\u001b[0m \u001b[0mvalues\u001b[0m\u001b[0;34m.\u001b[0m\u001b[0mcopy\u001b[0m\u001b[0;34m(\u001b[0m\u001b[0;34m)\u001b[0m\u001b[0;34m\u001b[0m\u001b[0m\n\u001b[0m\u001b[1;32m    779\u001b[0m         \u001b[0;32mreturn\u001b[0m \u001b[0mself\u001b[0m\u001b[0;34m.\u001b[0m\u001b[0mmake_block_same_class\u001b[0m\u001b[0;34m(\u001b[0m\u001b[0mvalues\u001b[0m\u001b[0;34m)\u001b[0m\u001b[0;34m\u001b[0m\u001b[0m\n\u001b[1;32m    780\u001b[0m \u001b[0;34m\u001b[0m\u001b[0m\n",
      "\u001b[0;31mKeyboardInterrupt\u001b[0m: "
     ]
    }
   ],
   "source": [
    "# Create a new offer_id column and a new amount column with the keys of the \"value\" column and fill in the values of the keys\n",
    "# The reward key can be ignored because it is contained in the portfolio dataframe\n",
    "for i in range(len(transcript['value'])):\n",
    "    #print(b.loc[i,\"value\"].keys())\n",
    "    if (list(transcript.loc[i,'value'].keys())[0] == 'offer_id') | (list(transcript.loc[i,'value'].keys())[0] == 'offer id'):\n",
    "        transcript.loc[i,\"offer_id\"]= list(transcript.loc[i,'value'].values())[0]\n",
    "        #print(\"offer\")\n",
    "    elif list(transcript.loc[i,'value'].keys())[0] == 'amount':\n",
    "        transcript.loc[i,\"amount\"]= list(transcript.loc[i,'value'].values())[0]\n",
    "\n",
    "#Drop the original value-column\n",
    "transcript = transcript.drop([\"value\"],axis=1)\n",
    "                                      \n",
    "#Check the changes\n",
    "transcript.head()"
   ]
  },
  {
   "cell_type": "code",
   "execution_count": null,
   "metadata": {},
   "outputs": [],
   "source": [
    "#Rename ID-column to \"customer_id\"\n",
    "transcript = transcript.rename(columns={\"person\":\"customer_id\"})\n",
    "transcript.head()"
   ]
  },
  {
   "cell_type": "markdown",
   "metadata": {},
   "source": [
    "### 1.4 Merge everything to start the analysis"
   ]
  },
  {
   "cell_type": "code",
   "execution_count": null,
   "metadata": {},
   "outputs": [],
   "source": [
    "# Merge the three dataframes \n",
    "df = profile.merge(transcript,how='left',on='customer_id')\n",
    "df = df.merge(portfolio,how='left',on='offer_id')\n",
    "print(df.head())"
   ]
  },
  {
   "cell_type": "code",
   "execution_count": null,
   "metadata": {},
   "outputs": [],
   "source": [
    "# Save as pickle to save time\n",
    "df.to_pickle(\"data/merged_df.pkl\")\n",
    "portfolio.to_pickle(\"data/portfolio.pkl\")\n",
    "profile.to_pickle(\"data/profile.pkl\")\n",
    "transcript.to_pickle(\"data/transcript.pkl\")"
   ]
  },
  {
   "cell_type": "markdown",
   "metadata": {},
   "source": [
    "# Start from here with pickle"
   ]
  },
  {
   "cell_type": "code",
   "execution_count": 37,
   "metadata": {},
   "outputs": [],
   "source": [
    "# Import libraries to start from here\n",
    "import pandas as pd\n",
    "import numpy as np\n",
    "import math\n",
    "import json\n",
    "import matplotlib.pyplot as plt\n",
    "import pickle\n",
    "import os\n",
    "from datetime import datetime\n",
    "import seaborn as sns\n",
    "% matplotlib inline\n",
    "\n"
   ]
  },
  {
   "cell_type": "code",
   "execution_count": 38,
   "metadata": {},
   "outputs": [],
   "source": [
    "# Read pickle\n",
    "df = pd.read_pickle(\"data/merged_df.pkl\")\n",
    "portfolio = pd.read_pickle(\"data/portfolio.pkl\")\n",
    "profile = pd.read_pickle(\"data/profile.pkl\")\n",
    "transcript = pd.read_pickle(\"data/transcript.pkl\")"
   ]
  },
  {
   "cell_type": "markdown",
   "metadata": {},
   "source": [
    "# Exploratory Analysis"
   ]
  },
  {
   "cell_type": "markdown",
   "metadata": {},
   "source": [
    "## Portfolio Data"
   ]
  },
  {
   "cell_type": "markdown",
   "metadata": {},
   "source": [
    "This data consists of the definition of the offers, like the difficulty or the reward for completing them.  "
   ]
  },
  {
   "cell_type": "code",
   "execution_count": 39,
   "metadata": {},
   "outputs": [
    {
     "data": {
      "text/html": [
       "<div>\n",
       "<style scoped>\n",
       "    .dataframe tbody tr th:only-of-type {\n",
       "        vertical-align: middle;\n",
       "    }\n",
       "\n",
       "    .dataframe tbody tr th {\n",
       "        vertical-align: top;\n",
       "    }\n",
       "\n",
       "    .dataframe thead th {\n",
       "        text-align: right;\n",
       "    }\n",
       "</style>\n",
       "<table border=\"1\" class=\"dataframe\">\n",
       "  <thead>\n",
       "    <tr style=\"text-align: right;\">\n",
       "      <th></th>\n",
       "      <th>difficulty</th>\n",
       "      <th>duration</th>\n",
       "      <th>offer_id</th>\n",
       "      <th>offer_type</th>\n",
       "      <th>reward</th>\n",
       "      <th>bogo</th>\n",
       "      <th>discount</th>\n",
       "      <th>informational</th>\n",
       "      <th>email</th>\n",
       "      <th>mobile</th>\n",
       "      <th>social</th>\n",
       "      <th>web</th>\n",
       "    </tr>\n",
       "  </thead>\n",
       "  <tbody>\n",
       "    <tr>\n",
       "      <th>0</th>\n",
       "      <td>10</td>\n",
       "      <td>7</td>\n",
       "      <td>ae264e3637204a6fb9bb56bc8210ddfd</td>\n",
       "      <td>bogo</td>\n",
       "      <td>10</td>\n",
       "      <td>1</td>\n",
       "      <td>0</td>\n",
       "      <td>0</td>\n",
       "      <td>1.0</td>\n",
       "      <td>1.0</td>\n",
       "      <td>1.0</td>\n",
       "      <td>0.0</td>\n",
       "    </tr>\n",
       "    <tr>\n",
       "      <th>1</th>\n",
       "      <td>10</td>\n",
       "      <td>5</td>\n",
       "      <td>4d5c57ea9a6940dd891ad53e9dbe8da0</td>\n",
       "      <td>bogo</td>\n",
       "      <td>10</td>\n",
       "      <td>1</td>\n",
       "      <td>0</td>\n",
       "      <td>0</td>\n",
       "      <td>1.0</td>\n",
       "      <td>1.0</td>\n",
       "      <td>1.0</td>\n",
       "      <td>1.0</td>\n",
       "    </tr>\n",
       "    <tr>\n",
       "      <th>2</th>\n",
       "      <td>0</td>\n",
       "      <td>4</td>\n",
       "      <td>3f207df678b143eea3cee63160fa8bed</td>\n",
       "      <td>informational</td>\n",
       "      <td>0</td>\n",
       "      <td>0</td>\n",
       "      <td>0</td>\n",
       "      <td>1</td>\n",
       "      <td>1.0</td>\n",
       "      <td>1.0</td>\n",
       "      <td>0.0</td>\n",
       "      <td>1.0</td>\n",
       "    </tr>\n",
       "    <tr>\n",
       "      <th>3</th>\n",
       "      <td>5</td>\n",
       "      <td>7</td>\n",
       "      <td>9b98b8c7a33c4b65b9aebfe6a799e6d9</td>\n",
       "      <td>bogo</td>\n",
       "      <td>5</td>\n",
       "      <td>1</td>\n",
       "      <td>0</td>\n",
       "      <td>0</td>\n",
       "      <td>1.0</td>\n",
       "      <td>1.0</td>\n",
       "      <td>0.0</td>\n",
       "      <td>1.0</td>\n",
       "    </tr>\n",
       "    <tr>\n",
       "      <th>4</th>\n",
       "      <td>20</td>\n",
       "      <td>10</td>\n",
       "      <td>0b1e1539f2cc45b7b9fa7c272da2e1d7</td>\n",
       "      <td>discount</td>\n",
       "      <td>5</td>\n",
       "      <td>0</td>\n",
       "      <td>1</td>\n",
       "      <td>0</td>\n",
       "      <td>1.0</td>\n",
       "      <td>0.0</td>\n",
       "      <td>0.0</td>\n",
       "      <td>1.0</td>\n",
       "    </tr>\n",
       "  </tbody>\n",
       "</table>\n",
       "</div>"
      ],
      "text/plain": [
       "   difficulty  duration                          offer_id     offer_type  \\\n",
       "0          10         7  ae264e3637204a6fb9bb56bc8210ddfd           bogo   \n",
       "1          10         5  4d5c57ea9a6940dd891ad53e9dbe8da0           bogo   \n",
       "2           0         4  3f207df678b143eea3cee63160fa8bed  informational   \n",
       "3           5         7  9b98b8c7a33c4b65b9aebfe6a799e6d9           bogo   \n",
       "4          20        10  0b1e1539f2cc45b7b9fa7c272da2e1d7       discount   \n",
       "\n",
       "   reward  bogo  discount  informational  email  mobile  social  web  \n",
       "0      10     1         0              0    1.0     1.0     1.0  0.0  \n",
       "1      10     1         0              0    1.0     1.0     1.0  1.0  \n",
       "2       0     0         0              1    1.0     1.0     0.0  1.0  \n",
       "3       5     1         0              0    1.0     1.0     0.0  1.0  \n",
       "4       5     0         1              0    1.0     0.0     0.0  1.0  "
      ]
     },
     "execution_count": 39,
     "metadata": {},
     "output_type": "execute_result"
    }
   ],
   "source": [
    "portfolio.head()"
   ]
  },
  {
   "cell_type": "markdown",
   "metadata": {},
   "source": [
    "#### Q: How many different offers exist and what are the proportions of the offer types?"
   ]
  },
  {
   "cell_type": "code",
   "execution_count": 40,
   "metadata": {},
   "outputs": [
    {
     "name": "stdout",
     "output_type": "stream",
     "text": [
      "10\n",
      "40.0\n",
      "40.0\n",
      "20.0\n"
     ]
    }
   ],
   "source": [
    "portfolio_n = portfolio.shape[0]\n",
    "print(portfolio_n)\n",
    "print(portfolio[portfolio['offer_type']=='bogo'].count()['offer_type']/portfolio_n*100)\n",
    "print(portfolio[portfolio['offer_type']=='discount'].count()['offer_type']/portfolio_n*100)\n",
    "print(portfolio[portfolio['offer_type']=='informational'].count()['offer_type']/portfolio_n*100)\n",
    "#portfolio[portfolio['offer_type'] =='bogo'].count()"
   ]
  },
  {
   "cell_type": "markdown",
   "metadata": {},
   "source": [
    "- There are 10 different offers\n",
    "- The proportion of a bogo and a discount offer is the same with 40% each. The proportion of an informational offer is 20%."
   ]
  },
  {
   "cell_type": "markdown",
   "metadata": {},
   "source": [
    "##  Profile Data"
   ]
  },
  {
   "cell_type": "markdown",
   "metadata": {},
   "source": [
    "The profile data consists of demographic data about the customers."
   ]
  },
  {
   "cell_type": "code",
   "execution_count": 41,
   "metadata": {},
   "outputs": [
    {
     "data": {
      "text/html": [
       "<div>\n",
       "<style scoped>\n",
       "    .dataframe tbody tr th:only-of-type {\n",
       "        vertical-align: middle;\n",
       "    }\n",
       "\n",
       "    .dataframe tbody tr th {\n",
       "        vertical-align: top;\n",
       "    }\n",
       "\n",
       "    .dataframe thead th {\n",
       "        text-align: right;\n",
       "    }\n",
       "</style>\n",
       "<table border=\"1\" class=\"dataframe\">\n",
       "  <thead>\n",
       "    <tr style=\"text-align: right;\">\n",
       "      <th></th>\n",
       "      <th>age</th>\n",
       "      <th>became_member_on</th>\n",
       "      <th>gender</th>\n",
       "      <th>customer_id</th>\n",
       "      <th>income</th>\n",
       "      <th>membership_year</th>\n",
       "      <th>membership_year_month</th>\n",
       "    </tr>\n",
       "  </thead>\n",
       "  <tbody>\n",
       "    <tr>\n",
       "      <th>1</th>\n",
       "      <td>55</td>\n",
       "      <td>2017-07-15</td>\n",
       "      <td>F</td>\n",
       "      <td>0610b486422d4921ae7d2bf64640c50b</td>\n",
       "      <td>112000.0</td>\n",
       "      <td>2017</td>\n",
       "      <td>2017-07</td>\n",
       "    </tr>\n",
       "    <tr>\n",
       "      <th>3</th>\n",
       "      <td>75</td>\n",
       "      <td>2017-05-09</td>\n",
       "      <td>F</td>\n",
       "      <td>78afa995795e4d85b5d9ceeca43f5fef</td>\n",
       "      <td>100000.0</td>\n",
       "      <td>2017</td>\n",
       "      <td>2017-05</td>\n",
       "    </tr>\n",
       "    <tr>\n",
       "      <th>5</th>\n",
       "      <td>68</td>\n",
       "      <td>2018-04-26</td>\n",
       "      <td>M</td>\n",
       "      <td>e2127556f4f64592b11af22de27a7932</td>\n",
       "      <td>70000.0</td>\n",
       "      <td>2018</td>\n",
       "      <td>2018-04</td>\n",
       "    </tr>\n",
       "    <tr>\n",
       "      <th>8</th>\n",
       "      <td>65</td>\n",
       "      <td>2018-02-09</td>\n",
       "      <td>M</td>\n",
       "      <td>389bc3fa690240e798340f5a15918d5c</td>\n",
       "      <td>53000.0</td>\n",
       "      <td>2018</td>\n",
       "      <td>2018-02</td>\n",
       "    </tr>\n",
       "    <tr>\n",
       "      <th>12</th>\n",
       "      <td>58</td>\n",
       "      <td>2017-11-11</td>\n",
       "      <td>M</td>\n",
       "      <td>2eeac8d8feae4a8cad5a6af0499a211d</td>\n",
       "      <td>51000.0</td>\n",
       "      <td>2017</td>\n",
       "      <td>2017-11</td>\n",
       "    </tr>\n",
       "  </tbody>\n",
       "</table>\n",
       "</div>"
      ],
      "text/plain": [
       "    age became_member_on gender                       customer_id    income  \\\n",
       "1    55       2017-07-15      F  0610b486422d4921ae7d2bf64640c50b  112000.0   \n",
       "3    75       2017-05-09      F  78afa995795e4d85b5d9ceeca43f5fef  100000.0   \n",
       "5    68       2018-04-26      M  e2127556f4f64592b11af22de27a7932   70000.0   \n",
       "8    65       2018-02-09      M  389bc3fa690240e798340f5a15918d5c   53000.0   \n",
       "12   58       2017-11-11      M  2eeac8d8feae4a8cad5a6af0499a211d   51000.0   \n",
       "\n",
       "   membership_year membership_year_month  \n",
       "1             2017               2017-07  \n",
       "3             2017               2017-05  \n",
       "5             2018               2018-04  \n",
       "8             2018               2018-02  \n",
       "12            2017               2017-11  "
      ]
     },
     "execution_count": 41,
     "metadata": {},
     "output_type": "execute_result"
    }
   ],
   "source": [
    "profile.head()"
   ]
  },
  {
   "cell_type": "markdown",
   "metadata": {},
   "source": [
    "### Univariate Analysis"
   ]
  },
  {
   "cell_type": "markdown",
   "metadata": {},
   "source": [
    "#### Q: How is the distribution of the age of participants of the starbucks application"
   ]
  },
  {
   "cell_type": "code",
   "execution_count": 42,
   "metadata": {
    "scrolled": true
   },
   "outputs": [
    {
     "name": "stdout",
     "output_type": "stream",
     "text": [
      "The mean is: 54.3935244519\n",
      "The mode is: 0    58.0\n",
      "dtype: float64\n",
      "The median: 55.0\n"
     ]
    },
    {
     "data": {
      "image/png": "[encoded data removed]",
      "text/plain": [
       "<matplotlib.figure.Figure at 0x7f3a9b348898>"
      ]
     },
     "metadata": {
      "needs_background": "light"
     },
     "output_type": "display_data"
    }
   ],
   "source": [
    "# Set up a figure\n",
    "fig = plt.figure(figsize=(10,3))\n",
    "\n",
    "# Set up subplots\n",
    "(profile['age'].hist())\n",
    "plt.title('Distribution of age of participants of the app')\n",
    "plt.ylabel('Number of Customers')\n",
    "plt.xlabel(\"age\")\n",
    "\n",
    "print(\"The mean is: \"+str(profile[\"age\"].astype(float).mean()))\n",
    "print(\"The mode is: \"+str(profile[\"age\"].astype(float).mode()))\n",
    "print(\"The median: \"+str(profile[\"age\"].astype(float).median()))\n",
    "\n",
    "#os.mkdir(\"images\")\n",
    "plt.savefig('images/age_distribution.png')"
   ]
  },
  {
   "cell_type": "markdown",
   "metadata": {},
   "source": [
    "- We can see, that the most customers are between 50 and 70 years old, which is older than expected.\n",
    "- The mean of the age lies at 54 years\n",
    "- The most present age is 58 years\n",
    "- 50 % of the customers are younger than 55 years."
   ]
  },
  {
   "cell_type": "markdown",
   "metadata": {},
   "source": [
    "#### Q: How is the distribution of the income of participants of the starbucks application"
   ]
  },
  {
   "cell_type": "code",
   "execution_count": 43,
   "metadata": {},
   "outputs": [
    {
     "name": "stdout",
     "output_type": "stream",
     "text": [
      "The mean is: 65404.9915683\n",
      "The mode is: 0    73000.0\n",
      "dtype: float64\n",
      "The median: 64000.0\n"
     ]
    },
    {
     "data": {
      "image/png": "[encoded data removed]",
      "text/plain": [
       "<matplotlib.figure.Figure at 0x7f3aa6b11b00>"
      ]
     },
     "metadata": {
      "needs_background": "light"
     },
     "output_type": "display_data"
    }
   ],
   "source": [
    "# Set up a figure\n",
    "fig = plt.figure(figsize=(10,3))\n",
    "\n",
    "# Set up subplots\n",
    "(profile['income'].hist())\n",
    "plt.title('Distribution of income of the participants of the app')\n",
    "plt.ylabel('Number of Customers')\n",
    "plt.xlabel(\"income\")\n",
    "\n",
    "print(\"The mean is: \"+str(profile[\"income\"].astype(float).mean()))\n",
    "print(\"The mode is: \"+str(profile[\"income\"].astype(float).mode()))\n",
    "print(\"The median: \"+str(profile[\"income\"].astype(float).median()))\n",
    "\n",
    "plt.savefig('images/age_distribution.png')"
   ]
  },
  {
   "cell_type": "markdown",
   "metadata": {},
   "source": [
    "- We can see, that the most customers have an income of about 70,000 USD and the number of customers decreases with increasing income.\n",
    "- The mean of the income is about 65,000 USD. \n",
    "- The most present income is 73,000 USD.\n",
    "- 50 % of the customers have an income smaller than 64,000 USD."
   ]
  },
  {
   "cell_type": "markdown",
   "metadata": {},
   "source": [
    "#### Q: How is the distribution of the gender of participants of the starbucks application"
   ]
  },
  {
   "cell_type": "code",
   "execution_count": 44,
   "metadata": {
    "scrolled": false
   },
   "outputs": [
    {
     "name": "stdout",
     "output_type": "stream",
     "text": [
      "The Male customers make up 57.23 % of the customers\n",
      "The Female customers make up 41.34 % of the customers\n",
      "The Other customers make up 1.43 % of the customers\n"
     ]
    },
    {
     "data": {
      "image/png": "[encoded data removed]",
      "text/plain": [
       "<matplotlib.figure.Figure at 0x7f3a9b2f4940>"
      ]
     },
     "metadata": {
      "needs_background": "light"
     },
     "output_type": "display_data"
    }
   ],
   "source": [
    "# Set up a figure\n",
    "fig = plt.figure(figsize=(10,3))\n",
    "\n",
    "# Set up subplots\n",
    "#(profile['gender'].value_counts()).sort_values(ascending=False).plot.bar(color='blue')\n",
    "sns.countplot(x='gender',data=profile)\n",
    "plt.title('Distribution of genders of participants of the app')\n",
    "plt.ylabel('Number of Customers')\n",
    "\n",
    "profile_n = profile.shape[0]\n",
    "print(\"The Male customers make up \"+str(round(profile[profile['gender']=='M'].count()['gender']/profile_n*100,2))+\" % of the customers\")\n",
    "print(\"The Female customers make up \"+str(round(profile[profile['gender']=='F'].count()['gender']/profile_n*100,2))+\" % of the customers\")\n",
    "print(\"The Other customers make up \"+str(round(profile[profile['gender']=='O'].count()['gender']/profile_n*100,2))+\" % of the customers\")"
   ]
  },
  {
   "cell_type": "markdown",
   "metadata": {},
   "source": [
    "- The proportion of male participants is 15 percent points higher than the proportion of female participants.\n",
    "- Other customers make up about 1.5 % of the total customers."
   ]
  },
  {
   "cell_type": "markdown",
   "metadata": {},
   "source": [
    "#### Q: What is the distribution of the membership"
   ]
  },
  {
   "cell_type": "code",
   "execution_count": 45,
   "metadata": {
    "scrolled": true
   },
   "outputs": [
    {
     "name": "stdout",
     "output_type": "stream",
     "text": [
      "Proportion of memberships in year 2013 :1.85 %\n",
      "Proportion of memberships in year 2014 :4.47 %\n",
      "Proportion of memberships in year 2015 :10.77 %\n",
      "Proportion of memberships in year 2016 :20.4 %\n",
      "Proportion of memberships in year 2018 :24.75 %\n",
      "Proportion of memberships in year 2017 :37.77 %\n"
     ]
    },
    {
     "data": {
      "image/png": "[encoded data removed]",
      "text/plain": [
       "<matplotlib.figure.Figure at 0x7f3a9b1d0cc0>"
      ]
     },
     "metadata": {
      "needs_background": "light"
     },
     "output_type": "display_data"
    }
   ],
   "source": [
    "#Get years in right order \n",
    "u, count = np.unique(profile[\"membership_year\"], return_counts=True)\n",
    "count_sort_ind = np.argsort(count)\n",
    "years = u[count_sort_ind]\n",
    "\n",
    "# Set up a figure\n",
    "fig = plt.figure(figsize=(10,2))\n",
    "\n",
    "# Set up subplots\n",
    "(profile['membership_year'].value_counts().sort_index()).plot.bar(color='blue')\n",
    "plt.title('Distribution of yearly membership of participants of the app')\n",
    "plt.ylabel('Number of Customers')\n",
    "plt.xlabel(\"Membership\")\n",
    "\n",
    "for i in years:\n",
    "    print(\"Proportion of memberships in year \"+str(i)+\" :\"+str(round(profile[profile[\"membership_year\"]==str(i)].count()['membership_year']/profile_n*100,2))+\" %\")\n",
    "    "
   ]
  },
  {
   "cell_type": "markdown",
   "metadata": {},
   "source": [
    "- A clear increase in members is seen by the distribution over the years starting from 2013 to 2018 \n",
    "- From 2013 to 2017 there was a alomost two fold increase every year.\n",
    "- From 2017 to 2018 there was a decrease of about 50%"
   ]
  },
  {
   "cell_type": "markdown",
   "metadata": {},
   "source": [
    "### Multivariate Analysis"
   ]
  },
  {
   "cell_type": "markdown",
   "metadata": {},
   "source": [
    "#### Q: How is the distribution of the income between the genders"
   ]
  },
  {
   "cell_type": "code",
   "execution_count": 46,
   "metadata": {},
   "outputs": [
    {
     "data": {
      "text/plain": [
       "Text(0.5,1,'Income distribution between genders')"
      ]
     },
     "execution_count": 46,
     "metadata": {},
     "output_type": "execute_result"
    },
    {
     "data": {
      "image/png": "[encoded data removed]",
      "text/plain": [
       "<matplotlib.figure.Figure at 0x7f3a9b1ecb00>"
      ]
     },
     "metadata": {
      "needs_background": "light"
     },
     "output_type": "display_data"
    }
   ],
   "source": [
    "sns.violinplot(x=\"gender\", y=\"income\", data=profile).set_title(\"Income distribution between genders\")\n"
   ]
  },
  {
   "cell_type": "markdown",
   "metadata": {},
   "source": [
    "- The highest amount of females have an income of about 80,000 USD but the amount of females with low and high income is balanced well.\n",
    "- Male members peak at 60,000 USD and the amount of males decreases after 70,000 USD and decreases further with higher income.\n",
    "- Members who chose the \"Other\" gender have the highest amount at also about 60,000 USD but maintain a better balance between low and high income."
   ]
  },
  {
   "cell_type": "markdown",
   "metadata": {},
   "source": [
    "#### Q: How is the distribution of the age between the genders"
   ]
  },
  {
   "cell_type": "code",
   "execution_count": 47,
   "metadata": {
    "scrolled": false
   },
   "outputs": [
    {
     "data": {
      "text/plain": [
       "Text(0.5,1,'Age distribution between genders')"
      ]
     },
     "execution_count": 47,
     "metadata": {},
     "output_type": "execute_result"
    },
    {
     "data": {
      "image/png": "[encoded data removed]",
      "text/plain": [
       "<matplotlib.figure.Figure at 0x7f3aa6ec1eb8>"
      ]
     },
     "metadata": {
      "needs_background": "light"
     },
     "output_type": "display_data"
    }
   ],
   "source": [
    "sns.violinplot(x=\"gender\", y=\"age\", data=profile).set_title(\"Age distribution between genders\")"
   ]
  },
  {
   "cell_type": "markdown",
   "metadata": {},
   "source": [
    "- Female members peak between the age of 50 and 70. \n",
    "- Males also peak between the same age but more young members (age of 20 to 40) are males. \n",
    "- Other members have the same distribution of age like the female members.\n"
   ]
  },
  {
   "cell_type": "markdown",
   "metadata": {},
   "source": [
    "#### Q: Was there a year of membership, which was dominantly used by a specific gender?"
   ]
  },
  {
   "cell_type": "code",
   "execution_count": 48,
   "metadata": {
    "scrolled": false
   },
   "outputs": [
    {
     "data": {
      "text/plain": [
       "Text(0.5,1,'Membership distribution between genders')"
      ]
     },
     "execution_count": 48,
     "metadata": {},
     "output_type": "execute_result"
    },
    {
     "data": {
      "image/png": "[encoded data removed]",
      "text/plain": [
       "<matplotlib.figure.Figure at 0x7f3a9b346ba8>"
      ]
     },
     "metadata": {
      "needs_background": "light"
     },
     "output_type": "display_data"
    }
   ],
   "source": [
    "sns.countplot(x=\"membership_year\", hue=\"gender\", data=profile).set_title(\"Membership distribution between genders\")"
   ]
  },
  {
   "cell_type": "markdown",
   "metadata": {},
   "source": [
    "- From 2013 to 2015 male members started to use the app more.\n",
    "- In 2016 the number of females becoming members exceeded the number of male becoming members for the first time.\n",
    "- In 2017 this trend changed again. \n",
    "- In 2018 the number of new female members decreased to the same point in year 2016, whereas the new male members maintained more. "
   ]
  },
  {
   "cell_type": "markdown",
   "metadata": {},
   "source": [
    "## Transcript data"
   ]
  },
  {
   "cell_type": "markdown",
   "metadata": {},
   "source": [
    "### Univariate Analysis"
   ]
  },
  {
   "cell_type": "code",
   "execution_count": 49,
   "metadata": {},
   "outputs": [
    {
     "data": {
      "text/html": [
       "<div>\n",
       "<style scoped>\n",
       "    .dataframe tbody tr th:only-of-type {\n",
       "        vertical-align: middle;\n",
       "    }\n",
       "\n",
       "    .dataframe tbody tr th {\n",
       "        vertical-align: top;\n",
       "    }\n",
       "\n",
       "    .dataframe thead th {\n",
       "        text-align: right;\n",
       "    }\n",
       "</style>\n",
       "<table border=\"1\" class=\"dataframe\">\n",
       "  <thead>\n",
       "    <tr style=\"text-align: right;\">\n",
       "      <th></th>\n",
       "      <th>event</th>\n",
       "      <th>customer_id</th>\n",
       "      <th>time</th>\n",
       "      <th>offer completed</th>\n",
       "      <th>offer received</th>\n",
       "      <th>offer viewed</th>\n",
       "      <th>transaction</th>\n",
       "      <th>offer_id</th>\n",
       "      <th>amount</th>\n",
       "    </tr>\n",
       "  </thead>\n",
       "  <tbody>\n",
       "    <tr>\n",
       "      <th>0</th>\n",
       "      <td>offer received</td>\n",
       "      <td>78afa995795e4d85b5d9ceeca43f5fef</td>\n",
       "      <td>0</td>\n",
       "      <td>0</td>\n",
       "      <td>1</td>\n",
       "      <td>0</td>\n",
       "      <td>0</td>\n",
       "      <td>9b98b8c7a33c4b65b9aebfe6a799e6d9</td>\n",
       "      <td>NaN</td>\n",
       "    </tr>\n",
       "    <tr>\n",
       "      <th>1</th>\n",
       "      <td>offer received</td>\n",
       "      <td>a03223e636434f42ac4c3df47e8bac43</td>\n",
       "      <td>0</td>\n",
       "      <td>0</td>\n",
       "      <td>1</td>\n",
       "      <td>0</td>\n",
       "      <td>0</td>\n",
       "      <td>0b1e1539f2cc45b7b9fa7c272da2e1d7</td>\n",
       "      <td>NaN</td>\n",
       "    </tr>\n",
       "    <tr>\n",
       "      <th>2</th>\n",
       "      <td>offer received</td>\n",
       "      <td>e2127556f4f64592b11af22de27a7932</td>\n",
       "      <td>0</td>\n",
       "      <td>0</td>\n",
       "      <td>1</td>\n",
       "      <td>0</td>\n",
       "      <td>0</td>\n",
       "      <td>2906b810c7d4411798c6938adc9daaa5</td>\n",
       "      <td>NaN</td>\n",
       "    </tr>\n",
       "    <tr>\n",
       "      <th>3</th>\n",
       "      <td>offer received</td>\n",
       "      <td>8ec6ce2a7e7949b1bf142def7d0e0586</td>\n",
       "      <td>0</td>\n",
       "      <td>0</td>\n",
       "      <td>1</td>\n",
       "      <td>0</td>\n",
       "      <td>0</td>\n",
       "      <td>fafdcd668e3743c1bb461111dcafc2a4</td>\n",
       "      <td>NaN</td>\n",
       "    </tr>\n",
       "    <tr>\n",
       "      <th>4</th>\n",
       "      <td>offer received</td>\n",
       "      <td>68617ca6246f4fbc85e91a2a49552598</td>\n",
       "      <td>0</td>\n",
       "      <td>0</td>\n",
       "      <td>1</td>\n",
       "      <td>0</td>\n",
       "      <td>0</td>\n",
       "      <td>4d5c57ea9a6940dd891ad53e9dbe8da0</td>\n",
       "      <td>NaN</td>\n",
       "    </tr>\n",
       "  </tbody>\n",
       "</table>\n",
       "</div>"
      ],
      "text/plain": [
       "            event                       customer_id  time  offer completed  \\\n",
       "0  offer received  78afa995795e4d85b5d9ceeca43f5fef     0                0   \n",
       "1  offer received  a03223e636434f42ac4c3df47e8bac43     0                0   \n",
       "2  offer received  e2127556f4f64592b11af22de27a7932     0                0   \n",
       "3  offer received  8ec6ce2a7e7949b1bf142def7d0e0586     0                0   \n",
       "4  offer received  68617ca6246f4fbc85e91a2a49552598     0                0   \n",
       "\n",
       "   offer received  offer viewed  transaction  \\\n",
       "0               1             0            0   \n",
       "1               1             0            0   \n",
       "2               1             0            0   \n",
       "3               1             0            0   \n",
       "4               1             0            0   \n",
       "\n",
       "                           offer_id  amount  \n",
       "0  9b98b8c7a33c4b65b9aebfe6a799e6d9     NaN  \n",
       "1  0b1e1539f2cc45b7b9fa7c272da2e1d7     NaN  \n",
       "2  2906b810c7d4411798c6938adc9daaa5     NaN  \n",
       "3  fafdcd668e3743c1bb461111dcafc2a4     NaN  \n",
       "4  4d5c57ea9a6940dd891ad53e9dbe8da0     NaN  "
      ]
     },
     "execution_count": 49,
     "metadata": {},
     "output_type": "execute_result"
    }
   ],
   "source": [
    "transcript.head()"
   ]
  },
  {
   "cell_type": "markdown",
   "metadata": {},
   "source": [
    "#### Q: How is the distribution of the different events?"
   ]
  },
  {
   "cell_type": "code",
   "execution_count": 50,
   "metadata": {
    "scrolled": true
   },
   "outputs": [
    {
     "name": "stdout",
     "output_type": "stream",
     "text": [
      "Proportion of the transaction event: 45.33 %\n",
      "Proportion of the offer received event: 24.88 %\n",
      "Proportion of the offer viewed event: 18.83 %\n",
      "Proportion of the offer completed event: 10.95 %\n"
     ]
    },
    {
     "data": {
      "image/png": "[encoded data removed]",
      "text/plain": [
       "<matplotlib.figure.Figure at 0x7f3a9b034438>"
      ]
     },
     "metadata": {
      "needs_background": "light"
     },
     "output_type": "display_data"
    }
   ],
   "source": [
    "# Set up a figure\n",
    "fig = plt.figure(figsize=(10,3))\n",
    "\n",
    "# Set up subplots\n",
    "transcript['event'].value_counts().sort_values().plot.bar(color='blue')\n",
    "plt.title('Distribution of events')\n",
    "plt.ylabel('Number of Events')\n",
    "plt.xlabel(\"Event\")\n",
    "\n",
    "\n",
    "transcript_n = transcript.shape[0]\n",
    "print(\"Proportion of the transaction event: \"+str(round(transcript[transcript['event']=='transaction'].count()['event']/transcript_n*100,2))+\" %\")\n",
    "print(\"Proportion of the offer received event: \"+str(round(transcript[transcript['event']=='offer received'].count()['event']/transcript_n*100,2))+\" %\")\n",
    "print(\"Proportion of the offer viewed event: \"+str(round(transcript[transcript['event']=='offer viewed'].count()['event']/transcript_n*100,2))+\" %\")\n",
    "print(\"Proportion of the offer completed event: \"+str(round(transcript[transcript['event']=='offer completed'].count()['event']/transcript_n*100,2))+\" %\")\n"
   ]
  },
  {
   "cell_type": "markdown",
   "metadata": {},
   "source": [
    "- The most present present event is the transaction, whereas offer completed is the least present one. \n",
    "- The transaction event has a proportion of about half of the events.\n",
    "- Almost a quarter of the events are received offers.\n",
    "- Only 19 % of the events are viewed.\n",
    "- The lowest proportion of events is the offer completed event."
   ]
  },
  {
   "cell_type": "markdown",
   "metadata": {},
   "source": [
    "To make assumptions about the link between certain demopgraphics and offer types, I need the assigned values of the demographic data to the offer types. Due to the lack of assignment of the transaction event, I split the merged dataframe into two datasets. One with the transaction event and one without. Furthermore I have to cluster the age and income to find ranges for the best offers. "
   ]
  },
  {
   "cell_type": "markdown",
   "metadata": {},
   "source": [
    "### Offer Data"
   ]
  },
  {
   "cell_type": "code",
   "execution_count": 51,
   "metadata": {
    "scrolled": true
   },
   "outputs": [
    {
     "data": {
      "text/html": [
       "<div>\n",
       "<style scoped>\n",
       "    .dataframe tbody tr th:only-of-type {\n",
       "        vertical-align: middle;\n",
       "    }\n",
       "\n",
       "    .dataframe tbody tr th {\n",
       "        vertical-align: top;\n",
       "    }\n",
       "\n",
       "    .dataframe thead th {\n",
       "        text-align: right;\n",
       "    }\n",
       "</style>\n",
       "<table border=\"1\" class=\"dataframe\">\n",
       "  <thead>\n",
       "    <tr style=\"text-align: right;\">\n",
       "      <th></th>\n",
       "      <th>age</th>\n",
       "      <th>became_member_on</th>\n",
       "      <th>gender</th>\n",
       "      <th>customer_id</th>\n",
       "      <th>income</th>\n",
       "      <th>membership_year</th>\n",
       "      <th>membership_year_month</th>\n",
       "      <th>event</th>\n",
       "      <th>time</th>\n",
       "      <th>offer completed</th>\n",
       "      <th>...</th>\n",
       "      <th>duration</th>\n",
       "      <th>offer_type</th>\n",
       "      <th>reward</th>\n",
       "      <th>bogo</th>\n",
       "      <th>discount</th>\n",
       "      <th>informational</th>\n",
       "      <th>email</th>\n",
       "      <th>mobile</th>\n",
       "      <th>social</th>\n",
       "      <th>web</th>\n",
       "    </tr>\n",
       "  </thead>\n",
       "  <tbody>\n",
       "    <tr>\n",
       "      <th>2</th>\n",
       "      <td>55</td>\n",
       "      <td>2017-07-15</td>\n",
       "      <td>F</td>\n",
       "      <td>0610b486422d4921ae7d2bf64640c50b</td>\n",
       "      <td>112000.0</td>\n",
       "      <td>2017</td>\n",
       "      <td>2017-07</td>\n",
       "      <td>offer received</td>\n",
       "      <td>408</td>\n",
       "      <td>0</td>\n",
       "      <td>...</td>\n",
       "      <td>7.0</td>\n",
       "      <td>bogo</td>\n",
       "      <td>5.0</td>\n",
       "      <td>1.0</td>\n",
       "      <td>0.0</td>\n",
       "      <td>0.0</td>\n",
       "      <td>1.0</td>\n",
       "      <td>1.0</td>\n",
       "      <td>0.0</td>\n",
       "      <td>1.0</td>\n",
       "    </tr>\n",
       "    <tr>\n",
       "      <th>3</th>\n",
       "      <td>55</td>\n",
       "      <td>2017-07-15</td>\n",
       "      <td>F</td>\n",
       "      <td>0610b486422d4921ae7d2bf64640c50b</td>\n",
       "      <td>112000.0</td>\n",
       "      <td>2017</td>\n",
       "      <td>2017-07</td>\n",
       "      <td>offer received</td>\n",
       "      <td>504</td>\n",
       "      <td>0</td>\n",
       "      <td>...</td>\n",
       "      <td>4.0</td>\n",
       "      <td>informational</td>\n",
       "      <td>0.0</td>\n",
       "      <td>0.0</td>\n",
       "      <td>0.0</td>\n",
       "      <td>1.0</td>\n",
       "      <td>1.0</td>\n",
       "      <td>1.0</td>\n",
       "      <td>0.0</td>\n",
       "      <td>1.0</td>\n",
       "    </tr>\n",
       "    <tr>\n",
       "      <th>5</th>\n",
       "      <td>55</td>\n",
       "      <td>2017-07-15</td>\n",
       "      <td>F</td>\n",
       "      <td>0610b486422d4921ae7d2bf64640c50b</td>\n",
       "      <td>112000.0</td>\n",
       "      <td>2017</td>\n",
       "      <td>2017-07</td>\n",
       "      <td>offer completed</td>\n",
       "      <td>528</td>\n",
       "      <td>1</td>\n",
       "      <td>...</td>\n",
       "      <td>7.0</td>\n",
       "      <td>bogo</td>\n",
       "      <td>5.0</td>\n",
       "      <td>1.0</td>\n",
       "      <td>0.0</td>\n",
       "      <td>0.0</td>\n",
       "      <td>1.0</td>\n",
       "      <td>1.0</td>\n",
       "      <td>0.0</td>\n",
       "      <td>1.0</td>\n",
       "    </tr>\n",
       "    <tr>\n",
       "      <th>6</th>\n",
       "      <td>75</td>\n",
       "      <td>2017-05-09</td>\n",
       "      <td>F</td>\n",
       "      <td>78afa995795e4d85b5d9ceeca43f5fef</td>\n",
       "      <td>100000.0</td>\n",
       "      <td>2017</td>\n",
       "      <td>2017-05</td>\n",
       "      <td>offer received</td>\n",
       "      <td>0</td>\n",
       "      <td>0</td>\n",
       "      <td>...</td>\n",
       "      <td>7.0</td>\n",
       "      <td>bogo</td>\n",
       "      <td>5.0</td>\n",
       "      <td>1.0</td>\n",
       "      <td>0.0</td>\n",
       "      <td>0.0</td>\n",
       "      <td>1.0</td>\n",
       "      <td>1.0</td>\n",
       "      <td>0.0</td>\n",
       "      <td>1.0</td>\n",
       "    </tr>\n",
       "    <tr>\n",
       "      <th>7</th>\n",
       "      <td>75</td>\n",
       "      <td>2017-05-09</td>\n",
       "      <td>F</td>\n",
       "      <td>78afa995795e4d85b5d9ceeca43f5fef</td>\n",
       "      <td>100000.0</td>\n",
       "      <td>2017</td>\n",
       "      <td>2017-05</td>\n",
       "      <td>offer viewed</td>\n",
       "      <td>6</td>\n",
       "      <td>0</td>\n",
       "      <td>...</td>\n",
       "      <td>7.0</td>\n",
       "      <td>bogo</td>\n",
       "      <td>5.0</td>\n",
       "      <td>1.0</td>\n",
       "      <td>0.0</td>\n",
       "      <td>0.0</td>\n",
       "      <td>1.0</td>\n",
       "      <td>1.0</td>\n",
       "      <td>0.0</td>\n",
       "      <td>1.0</td>\n",
       "    </tr>\n",
       "  </tbody>\n",
       "</table>\n",
       "<p>5 rows × 26 columns</p>\n",
       "</div>"
      ],
      "text/plain": [
       "   age became_member_on gender                       customer_id    income  \\\n",
       "2   55       2017-07-15      F  0610b486422d4921ae7d2bf64640c50b  112000.0   \n",
       "3   55       2017-07-15      F  0610b486422d4921ae7d2bf64640c50b  112000.0   \n",
       "5   55       2017-07-15      F  0610b486422d4921ae7d2bf64640c50b  112000.0   \n",
       "6   75       2017-05-09      F  78afa995795e4d85b5d9ceeca43f5fef  100000.0   \n",
       "7   75       2017-05-09      F  78afa995795e4d85b5d9ceeca43f5fef  100000.0   \n",
       "\n",
       "  membership_year membership_year_month            event  time  \\\n",
       "2            2017               2017-07   offer received   408   \n",
       "3            2017               2017-07   offer received   504   \n",
       "5            2017               2017-07  offer completed   528   \n",
       "6            2017               2017-05   offer received     0   \n",
       "7            2017               2017-05     offer viewed     6   \n",
       "\n",
       "   offer completed ...   duration     offer_type  reward bogo  discount  \\\n",
       "2                0 ...        7.0           bogo     5.0  1.0       0.0   \n",
       "3                0 ...        4.0  informational     0.0  0.0       0.0   \n",
       "5                1 ...        7.0           bogo     5.0  1.0       0.0   \n",
       "6                0 ...        7.0           bogo     5.0  1.0       0.0   \n",
       "7                0 ...        7.0           bogo     5.0  1.0       0.0   \n",
       "\n",
       "   informational  email mobile  social  web  \n",
       "2            0.0    1.0    1.0     0.0  1.0  \n",
       "3            1.0    1.0    1.0     0.0  1.0  \n",
       "5            0.0    1.0    1.0     0.0  1.0  \n",
       "6            0.0    1.0    1.0     0.0  1.0  \n",
       "7            0.0    1.0    1.0     0.0  1.0  \n",
       "\n",
       "[5 rows x 26 columns]"
      ]
     },
     "execution_count": 51,
     "metadata": {},
     "output_type": "execute_result"
    }
   ],
   "source": [
    "offer_df = df[df[\"event\"] != \"transaction\"]\n",
    "transaction_df = df[df[\"event\"] == \"transaction\"]\n",
    "offer_df.head()"
   ]
  },
  {
   "cell_type": "code",
   "execution_count": 52,
   "metadata": {},
   "outputs": [
    {
     "name": "stderr",
     "output_type": "stream",
     "text": [
      "/opt/conda/lib/python3.6/site-packages/ipykernel_launcher.py:4: SettingWithCopyWarning: \n",
      "A value is trying to be set on a copy of a slice from a DataFrame.\n",
      "Try using .loc[row_indexer,col_indexer] = value instead\n",
      "\n",
      "See the caveats in the documentation: http://pandas.pydata.org/pandas-docs/stable/indexing.html#indexing-view-versus-copy\n",
      "  after removing the cwd from sys.path.\n",
      "/opt/conda/lib/python3.6/site-packages/ipykernel_launcher.py:5: SettingWithCopyWarning: \n",
      "A value is trying to be set on a copy of a slice from a DataFrame.\n",
      "Try using .loc[row_indexer,col_indexer] = value instead\n",
      "\n",
      "See the caveats in the documentation: http://pandas.pydata.org/pandas-docs/stable/indexing.html#indexing-view-versus-copy\n",
      "  \"\"\"\n"
     ]
    }
   ],
   "source": [
    "income_cluster_fun = [lambda x: \"0 - 40k\" if x <= 40000 else (\"40k - 60k\" if x > 40000 and x <=60000 else (\"60k - 80k\" if x > 60000 and x <=80000 else(\"80k - 100k\" if x > 80000 and x <=100000 else(\"100k - 120k\" if x > 100000 and x <=120000 else(\"120k - inf\" if x > 120000 else(\"Test\"))))))]\n",
    "age_cluster_fun = [lambda x: \"18 - 30\" if x <= 30 else (\"30 - 40\" if x > 30 and x <= 40 else (\"40 - 50\" if x > 40 and x <=50 else(\"50 - 60\" if x > 50 and x <=60 else(\"60 - 70\" if x > 60 and x <=70 else(\"70 - 80\" if x > 70 and x <= 80 else(\"80 - 90\" if x > 80 and x <= 90 else(\"90+\" if x > 90 else(\"Test\"))))))))]\n",
    "\n",
    "offer_df['income_cluster'] = offer_df['income'].apply(income_cluster_fun)\n",
    "offer_df['age_cluster'] = offer_df['age'].apply(age_cluster_fun)"
   ]
  },
  {
   "cell_type": "code",
   "execution_count": 53,
   "metadata": {},
   "outputs": [
    {
     "data": {
      "text/html": [
       "<div>\n",
       "<style scoped>\n",
       "    .dataframe tbody tr th:only-of-type {\n",
       "        vertical-align: middle;\n",
       "    }\n",
       "\n",
       "    .dataframe tbody tr th {\n",
       "        vertical-align: top;\n",
       "    }\n",
       "\n",
       "    .dataframe thead th {\n",
       "        text-align: right;\n",
       "    }\n",
       "</style>\n",
       "<table border=\"1\" class=\"dataframe\">\n",
       "  <thead>\n",
       "    <tr style=\"text-align: right;\">\n",
       "      <th></th>\n",
       "      <th>age</th>\n",
       "      <th>became_member_on</th>\n",
       "      <th>gender</th>\n",
       "      <th>customer_id</th>\n",
       "      <th>income</th>\n",
       "      <th>membership_year</th>\n",
       "      <th>membership_year_month</th>\n",
       "      <th>event</th>\n",
       "      <th>time</th>\n",
       "      <th>offer completed</th>\n",
       "      <th>...</th>\n",
       "      <th>reward</th>\n",
       "      <th>bogo</th>\n",
       "      <th>discount</th>\n",
       "      <th>informational</th>\n",
       "      <th>email</th>\n",
       "      <th>mobile</th>\n",
       "      <th>social</th>\n",
       "      <th>web</th>\n",
       "      <th>income_cluster</th>\n",
       "      <th>age_cluster</th>\n",
       "    </tr>\n",
       "  </thead>\n",
       "  <tbody>\n",
       "    <tr>\n",
       "      <th>2</th>\n",
       "      <td>55</td>\n",
       "      <td>2017-07-15</td>\n",
       "      <td>F</td>\n",
       "      <td>0610b486422d4921ae7d2bf64640c50b</td>\n",
       "      <td>112000.0</td>\n",
       "      <td>2017</td>\n",
       "      <td>2017-07</td>\n",
       "      <td>offer received</td>\n",
       "      <td>408</td>\n",
       "      <td>0</td>\n",
       "      <td>...</td>\n",
       "      <td>5.0</td>\n",
       "      <td>1.0</td>\n",
       "      <td>0.0</td>\n",
       "      <td>0.0</td>\n",
       "      <td>1.0</td>\n",
       "      <td>1.0</td>\n",
       "      <td>0.0</td>\n",
       "      <td>1.0</td>\n",
       "      <td>100k - 120k</td>\n",
       "      <td>50 - 60</td>\n",
       "    </tr>\n",
       "    <tr>\n",
       "      <th>3</th>\n",
       "      <td>55</td>\n",
       "      <td>2017-07-15</td>\n",
       "      <td>F</td>\n",
       "      <td>0610b486422d4921ae7d2bf64640c50b</td>\n",
       "      <td>112000.0</td>\n",
       "      <td>2017</td>\n",
       "      <td>2017-07</td>\n",
       "      <td>offer received</td>\n",
       "      <td>504</td>\n",
       "      <td>0</td>\n",
       "      <td>...</td>\n",
       "      <td>0.0</td>\n",
       "      <td>0.0</td>\n",
       "      <td>0.0</td>\n",
       "      <td>1.0</td>\n",
       "      <td>1.0</td>\n",
       "      <td>1.0</td>\n",
       "      <td>0.0</td>\n",
       "      <td>1.0</td>\n",
       "      <td>100k - 120k</td>\n",
       "      <td>50 - 60</td>\n",
       "    </tr>\n",
       "    <tr>\n",
       "      <th>5</th>\n",
       "      <td>55</td>\n",
       "      <td>2017-07-15</td>\n",
       "      <td>F</td>\n",
       "      <td>0610b486422d4921ae7d2bf64640c50b</td>\n",
       "      <td>112000.0</td>\n",
       "      <td>2017</td>\n",
       "      <td>2017-07</td>\n",
       "      <td>offer completed</td>\n",
       "      <td>528</td>\n",
       "      <td>1</td>\n",
       "      <td>...</td>\n",
       "      <td>5.0</td>\n",
       "      <td>1.0</td>\n",
       "      <td>0.0</td>\n",
       "      <td>0.0</td>\n",
       "      <td>1.0</td>\n",
       "      <td>1.0</td>\n",
       "      <td>0.0</td>\n",
       "      <td>1.0</td>\n",
       "      <td>100k - 120k</td>\n",
       "      <td>50 - 60</td>\n",
       "    </tr>\n",
       "    <tr>\n",
       "      <th>6</th>\n",
       "      <td>75</td>\n",
       "      <td>2017-05-09</td>\n",
       "      <td>F</td>\n",
       "      <td>78afa995795e4d85b5d9ceeca43f5fef</td>\n",
       "      <td>100000.0</td>\n",
       "      <td>2017</td>\n",
       "      <td>2017-05</td>\n",
       "      <td>offer received</td>\n",
       "      <td>0</td>\n",
       "      <td>0</td>\n",
       "      <td>...</td>\n",
       "      <td>5.0</td>\n",
       "      <td>1.0</td>\n",
       "      <td>0.0</td>\n",
       "      <td>0.0</td>\n",
       "      <td>1.0</td>\n",
       "      <td>1.0</td>\n",
       "      <td>0.0</td>\n",
       "      <td>1.0</td>\n",
       "      <td>80k - 100k</td>\n",
       "      <td>70 - 80</td>\n",
       "    </tr>\n",
       "    <tr>\n",
       "      <th>7</th>\n",
       "      <td>75</td>\n",
       "      <td>2017-05-09</td>\n",
       "      <td>F</td>\n",
       "      <td>78afa995795e4d85b5d9ceeca43f5fef</td>\n",
       "      <td>100000.0</td>\n",
       "      <td>2017</td>\n",
       "      <td>2017-05</td>\n",
       "      <td>offer viewed</td>\n",
       "      <td>6</td>\n",
       "      <td>0</td>\n",
       "      <td>...</td>\n",
       "      <td>5.0</td>\n",
       "      <td>1.0</td>\n",
       "      <td>0.0</td>\n",
       "      <td>0.0</td>\n",
       "      <td>1.0</td>\n",
       "      <td>1.0</td>\n",
       "      <td>0.0</td>\n",
       "      <td>1.0</td>\n",
       "      <td>80k - 100k</td>\n",
       "      <td>70 - 80</td>\n",
       "    </tr>\n",
       "  </tbody>\n",
       "</table>\n",
       "<p>5 rows × 28 columns</p>\n",
       "</div>"
      ],
      "text/plain": [
       "   age became_member_on gender                       customer_id    income  \\\n",
       "2   55       2017-07-15      F  0610b486422d4921ae7d2bf64640c50b  112000.0   \n",
       "3   55       2017-07-15      F  0610b486422d4921ae7d2bf64640c50b  112000.0   \n",
       "5   55       2017-07-15      F  0610b486422d4921ae7d2bf64640c50b  112000.0   \n",
       "6   75       2017-05-09      F  78afa995795e4d85b5d9ceeca43f5fef  100000.0   \n",
       "7   75       2017-05-09      F  78afa995795e4d85b5d9ceeca43f5fef  100000.0   \n",
       "\n",
       "  membership_year membership_year_month            event  time  \\\n",
       "2            2017               2017-07   offer received   408   \n",
       "3            2017               2017-07   offer received   504   \n",
       "5            2017               2017-07  offer completed   528   \n",
       "6            2017               2017-05   offer received     0   \n",
       "7            2017               2017-05     offer viewed     6   \n",
       "\n",
       "   offer completed     ...       reward  bogo  discount informational  email  \\\n",
       "2                0     ...          5.0   1.0       0.0           0.0    1.0   \n",
       "3                0     ...          0.0   0.0       0.0           1.0    1.0   \n",
       "5                1     ...          5.0   1.0       0.0           0.0    1.0   \n",
       "6                0     ...          5.0   1.0       0.0           0.0    1.0   \n",
       "7                0     ...          5.0   1.0       0.0           0.0    1.0   \n",
       "\n",
       "   mobile  social  web  income_cluster  age_cluster  \n",
       "2     1.0     0.0  1.0     100k - 120k      50 - 60  \n",
       "3     1.0     0.0  1.0     100k - 120k      50 - 60  \n",
       "5     1.0     0.0  1.0     100k - 120k      50 - 60  \n",
       "6     1.0     0.0  1.0      80k - 100k      70 - 80  \n",
       "7     1.0     0.0  1.0      80k - 100k      70 - 80  \n",
       "\n",
       "[5 rows x 28 columns]"
      ]
     },
     "execution_count": 53,
     "metadata": {},
     "output_type": "execute_result"
    }
   ],
   "source": [
    "offer_df.head()"
   ]
  },
  {
   "cell_type": "markdown",
   "metadata": {},
   "source": [
    "#### Q: What are the general satistics of customers? "
   ]
  },
  {
   "cell_type": "code",
   "execution_count": 54,
   "metadata": {},
   "outputs": [
    {
     "name": "stdout",
     "output_type": "stream",
     "text": [
      "The number of customers in this dataframe: 14820\n",
      "The number of received offers: 66501\n",
      "The rate of viewed offers: 74.9763161456 %\n",
      "The rate of completed offers in the dataset: 48.7872362822 %\n",
      "The rate of completed offers of viewed offers: 65.0701965503 %\n"
     ]
    }
   ],
   "source": [
    "# Build customer statistics \n",
    "def build_customer_statistics(df,sum_num_columns,non_sum_num_columns):\n",
    "    \"\"\"\n",
    "    Builds customer statistics for analysis\n",
    "    \n",
    "    INPUT:\n",
    "    df - dataframe\n",
    "    sum_num_columns - list of columns with values that should be summed up (amount, number of viewed offers, etc.)\n",
    "    non_sum_num_columns - list of columns with values that should not be summed up (Age, Gender, etc.)\n",
    "    \n",
    "    OUTPUT:\n",
    "    custom_df - dataframe with customer metrics/statistics\n",
    "    \n",
    "    \"\"\"\n",
    "    sum_num_data = df.groupby('customer_id').sum()[sum_num_columns]\n",
    "    non_sum_num_data = df.groupby(\"customer_id\").max()[non_sum_num_columns]\n",
    "    custom_df = sum_num_data.merge(non_sum_num_data,on='customer_id')\n",
    "    \n",
    "    return custom_df\n",
    "\n",
    "\n",
    "sum_num_columns = ['offer received','offer viewed','offer completed','difficulty','amount','reward','bogo','discount','informational']\n",
    "non_sum_num_columns = ['age','gender','income']\n",
    "\n",
    "custom_df =  build_customer_statistics(offer_df,sum_num_columns,non_sum_num_columns)\n",
    "\n",
    "def generate_general_metrics(custom_df):\n",
    "    \"\"\"\n",
    "    Generates general metrics of df\n",
    "    \n",
    "    INPUT:\n",
    "    - custom_df - Customer dataframe generated by function \"build_customer_statistics\"\n",
    "    \n",
    "    OUTPUT:\n",
    "    - prints out several statistics\n",
    "    \"\"\"\n",
    "    # Generate general metrics over all offers\n",
    "    # Number of customers\n",
    "    n_customers = custom_df.shape[0]\n",
    "    \n",
    "    # Number of received offers\n",
    "    n_offers = np.sum(custom_df['offer received'])\n",
    "\n",
    "    # View rate (Rate, that a customer viewed an offer)\n",
    "    view_rate = np.sum(custom_df['offer viewed'])/np.sum(custom_df['offer received'])\n",
    "    \n",
    "    # Completion rate (Rate, that a customer completed an offer)\n",
    "    comp_rate = np.sum(custom_df['offer completed'])/np.sum(custom_df['offer received'])\n",
    "    \n",
    "    # View-Completion rate (Rate, that a customer completed an offer after seeing it).\n",
    "    view_comp_rate = np.sum(custom_df['offer completed'])/np.sum(custom_df['offer viewed'])\n",
    "    \n",
    "    print(\"The number of customers in this dataframe: \"+str(n_customers))\n",
    "    print(\"The number of received offers: \"+str(n_offers))\n",
    "    print(\"The rate of viewed offers: \"+str(view_rate*100)+\" %\")\n",
    "    print(\"The rate of completed offers in the dataset: \"+str(comp_rate*100)+\" %\")\n",
    "    print(\"The rate of completed offers of viewed offers: \"+str(view_comp_rate*100)+\" %\")\n",
    "    \n",
    "generate_general_metrics(custom_df)"
   ]
  },
  {
   "cell_type": "markdown",
   "metadata": {},
   "source": [
    "- We can see, that 75 % offers are viewed afer received.\n",
    "- 65 % of the offers are completed after being viewed.\n",
    "- Only half of the offers are completed in total."
   ]
  },
  {
   "cell_type": "markdown",
   "metadata": {},
   "source": [
    "#### Q: How does the membership affect the completion of an offer?"
   ]
  },
  {
   "cell_type": "code",
   "execution_count": 55,
   "metadata": {
    "scrolled": true
   },
   "outputs": [
    {
     "data": {
      "text/plain": [
       "Text(0.5,1,'Distribution of events between membership years')"
      ]
     },
     "execution_count": 55,
     "metadata": {},
     "output_type": "execute_result"
    },
    {
     "data": {
      "image/png": "[encoded data removed]",
      "text/plain": [
       "<matplotlib.figure.Figure at 0x7f3a9b034128>"
      ]
     },
     "metadata": {
      "needs_background": "light"
     },
     "output_type": "display_data"
    }
   ],
   "source": [
    "# Set up a figure\n",
    "fig = plt.figure(figsize=(10,3))\n",
    "\n",
    "sns.countplot(x=\"membership_year\", hue=\"event\", data=offer_df).set_title(\"Distribution of events between membership years\")"
   ]
  },
  {
   "cell_type": "markdown",
   "metadata": {},
   "source": [
    "- Members of the years 2013 to 2016 viewed more of the offers received and thus completed more of them. The newer members got more offers but viewed them less and completed them less"
   ]
  },
  {
   "cell_type": "markdown",
   "metadata": {},
   "source": [
    "#### Q: How does the gender influence the completion of an offer?"
   ]
  },
  {
   "cell_type": "code",
   "execution_count": 56,
   "metadata": {
    "scrolled": false
   },
   "outputs": [
    {
     "data": {
      "text/plain": [
       "Text(0.5,1,'Distribution of events between genders')"
      ]
     },
     "execution_count": 56,
     "metadata": {},
     "output_type": "execute_result"
    },
    {
     "data": {
      "image/png": "[encoded data removed]",
      "text/plain": [
       "<matplotlib.figure.Figure at 0x7f3a9b08c940>"
      ]
     },
     "metadata": {
      "needs_background": "light"
     },
     "output_type": "display_data"
    }
   ],
   "source": [
    "#Set up a figure\n",
    "fig = plt.figure(figsize=(10,3))\n",
    "sns.countplot(x=\"gender\", hue=\"event\", data=offer_df).set_title(\"Distribution of events between genders\")"
   ]
  },
  {
   "cell_type": "markdown",
   "metadata": {},
   "source": [
    "- We can see, that the total amount of completed offers is higher for males.\n",
    "- But relatively the amount of received and viewed amount are the same mor male and female members.\n",
    "- The proportion of completed offers is higher for the female members."
   ]
  },
  {
   "cell_type": "markdown",
   "metadata": {},
   "source": [
    "#### Q: How does the age influence the completion of an offer?"
   ]
  },
  {
   "cell_type": "code",
   "execution_count": 57,
   "metadata": {
    "scrolled": false
   },
   "outputs": [
    {
     "data": {
      "text/plain": [
       "Text(0.5,1,'Distribution of events in different age groups')"
      ]
     },
     "execution_count": 57,
     "metadata": {},
     "output_type": "execute_result"
    },
    {
     "data": {
      "image/png": "[encoded data removed]",
      "text/plain": [
       "<matplotlib.figure.Figure at 0x7f3aa6e38048>"
      ]
     },
     "metadata": {
      "needs_background": "light"
     },
     "output_type": "display_data"
    }
   ],
   "source": [
    "#Set up a figure\n",
    "fig = plt.figure(figsize=(10,3))\n",
    "sns.countplot(order=sorted(offer_df['age_cluster'].unique()),x=\"age_cluster\", hue=\"event\", data=offer_df).set_title(\"Distribution of events in different age groups\")"
   ]
  },
  {
   "cell_type": "markdown",
   "metadata": {},
   "source": [
    "- People between 40 and 60 received the most offers.\n",
    "- People older than the age of 60 complete offers best.\n",
    "- The youngest group completed offers the worst."
   ]
  },
  {
   "cell_type": "markdown",
   "metadata": {},
   "source": [
    "#### Q: How does the income influence the completion of an offer?"
   ]
  },
  {
   "cell_type": "code",
   "execution_count": 58,
   "metadata": {
    "scrolled": false
   },
   "outputs": [
    {
     "data": {
      "text/plain": [
       "Text(0.5,1,'Distribution of events in different income groups')"
      ]
     },
     "execution_count": 58,
     "metadata": {},
     "output_type": "execute_result"
    },
    {
     "data": {
      "image/png": "[encoded data removed]",
      "text/plain": [
       "<matplotlib.figure.Figure at 0x7f3a9b25d550>"
      ]
     },
     "metadata": {
      "needs_background": "light"
     },
     "output_type": "display_data"
    }
   ],
   "source": [
    "#Set up a figure\n",
    "fig = plt.figure(figsize=(10,3))\n",
    "sns.countplot(order=['0 - 40k','40k - 60k','60k - 80k','80k - 100k','100k - 120k'],x=\"income_cluster\", hue=\"event\", data=offer_df).set_title(\"Distribution of events in different income groups\")"
   ]
  },
  {
   "cell_type": "markdown",
   "metadata": {},
   "source": [
    "- Low income groups complete less offers than higher income groups.\n",
    "- The best completion rate is in income ranges from 80,000 to 120,000 USD"
   ]
  },
  {
   "cell_type": "code",
   "execution_count": 59,
   "metadata": {},
   "outputs": [
    {
     "data": {
      "text/plain": [
       "Text(0.5,1,'Distribution of events in different age groups')"
      ]
     },
     "execution_count": 59,
     "metadata": {},
     "output_type": "execute_result"
    },
    {
     "data": {
      "image/png": "[encoded data removed]",
      "text/plain": [
       "<matplotlib.figure.Figure at 0x7f3aa8522b38>"
      ]
     },
     "metadata": {
      "needs_background": "light"
     },
     "output_type": "display_data"
    }
   ],
   "source": [
    "# Summarizing all Plots\n",
    "fig, ((ax1, ax2),(ax3,ax4)) = plt.subplots(2, 2,figsize=(15,5))\n",
    "fig.tight_layout(pad=5.0)\n",
    "sns.countplot(ax=ax1,order=['0 - 40k','40k - 60k','60k - 80k','80k - 100k','100k - 120k'],x=\"income_cluster\", hue=\"event\", data=offer_df).set_title(\"Distribution of events in different income groups\")\n",
    "sns.countplot(ax=ax2,order=sorted(offer_df['age_cluster'].unique()),x=\"age_cluster\", hue=\"event\", data=offer_df).set_title(\"Distribution of events in different age groups\")\n",
    "sns.countplot(ax=ax3,x=\"gender\", hue=\"event\", data=offer_df).set_title(\"Distribution of events in different age groups\")\n",
    "sns.countplot(ax=ax4,x=\"membership_year\", hue=\"event\", data=offer_df).set_title(\"Distribution of events in different age groups\")"
   ]
  },
  {
   "cell_type": "markdown",
   "metadata": {},
   "source": [
    "#### Q: What are the statistics of an completed offer?"
   ]
  },
  {
   "cell_type": "code",
   "execution_count": 60,
   "metadata": {},
   "outputs": [
    {
     "name": "stdout",
     "output_type": "stream",
     "text": [
      "Average age: 55.8266243373\n",
      "Average income: 69430.8038466\n",
      "Most present membership year: 2017\n",
      "Most present offer type: discount\n",
      "Most present gender: M\n"
     ]
    }
   ],
   "source": [
    "completed_df = offer_df[offer_df['offer completed']==1]\n",
    "print(\"Average age: \"+str(completed_df['age'].mean()))\n",
    "print(\"Average income: \"+str(completed_df['income'].mean()))\n",
    "print(\"Most present membership year: \"+str(completed_df['membership_year'].mode()[0]))\n",
    "print(\"Most present offer type: \"+str(completed_df['offer_type'].mode()[0]))\n",
    "print(\"Most present gender: \"+str(completed_df['gender'].mode()[0]))"
   ]
  },
  {
   "cell_type": "markdown",
   "metadata": {},
   "source": [
    "#### Q: Is there an influence from the income on the completed offer types "
   ]
  },
  {
   "cell_type": "code",
   "execution_count": 61,
   "metadata": {
    "scrolled": true
   },
   "outputs": [
    {
     "data": {
      "text/plain": [
       "Text(0.5,1,'Distribution of offer types in different income groups')"
      ]
     },
     "execution_count": 61,
     "metadata": {},
     "output_type": "execute_result"
    },
    {
     "data": {
      "image/png": "[encoded data removed]",
      "text/plain": [
       "<matplotlib.figure.Figure at 0x7f3aa82174a8>"
      ]
     },
     "metadata": {
      "needs_background": "light"
     },
     "output_type": "display_data"
    }
   ],
   "source": [
    "#Set up a figure\n",
    "fig = plt.figure(figsize=(10,3))\n",
    "sns.countplot(order=['0 - 40k','40k - 60k','60k - 80k','80k - 100k','100k - 120k'] ,x=\"income_cluster\", hue=\"offer_type\", data=completed_df).set_title(\"Distribution of offer types in different income groups\")"
   ]
  },
  {
   "cell_type": "markdown",
   "metadata": {},
   "source": [
    "- Almost all income groups completed the bogo and discount offer type similar.\n",
    "- The income clusters 40,000 to 80,000 prefered the discount more than the bogo."
   ]
  },
  {
   "cell_type": "markdown",
   "metadata": {},
   "source": [
    "#### Q: Is there an influence from the age on the completed offer types "
   ]
  },
  {
   "cell_type": "code",
   "execution_count": 62,
   "metadata": {},
   "outputs": [
    {
     "data": {
      "text/plain": [
       "Text(0.5,1,'Distribution of offer types in different age groups')"
      ]
     },
     "execution_count": 62,
     "metadata": {},
     "output_type": "execute_result"
    },
    {
     "data": {
      "image/png": "[encoded data removed]",
      "text/plain": [
       "<matplotlib.figure.Figure at 0x7f3a9b2dc208>"
      ]
     },
     "metadata": {
      "needs_background": "light"
     },
     "output_type": "display_data"
    }
   ],
   "source": [
    "#Set up a figure\n",
    "fig = plt.figure(figsize=(10,3))\n",
    "sns.countplot(order = sorted(offer_df['age_cluster'].unique()),x=\"age_cluster\", hue=\"offer_type\", data=completed_df).set_title(\"Distribution of offer types in different age groups\")"
   ]
  },
  {
   "cell_type": "markdown",
   "metadata": {},
   "source": [
    "- All age groups prefered the discount offer type over the bogo offer type."
   ]
  },
  {
   "cell_type": "markdown",
   "metadata": {},
   "source": [
    "#### Q: Is there an specific offer type for a gender?"
   ]
  },
  {
   "cell_type": "code",
   "execution_count": 63,
   "metadata": {},
   "outputs": [
    {
     "data": {
      "text/plain": [
       "Text(0.5,1,'Distribution of offer types in different gender groups')"
      ]
     },
     "execution_count": 63,
     "metadata": {},
     "output_type": "execute_result"
    },
    {
     "data": {
      "image/png": "[encoded data removed]",
      "text/plain": [
       "<matplotlib.figure.Figure at 0x7f3aa82ffe10>"
      ]
     },
     "metadata": {
      "needs_background": "light"
     },
     "output_type": "display_data"
    }
   ],
   "source": [
    "#Set up a figure\n",
    "fig = plt.figure(figsize=(10,3))\n",
    "sns.countplot(x=\"gender\", hue=\"offer_type\", data=completed_df).set_title(\"Distribution of offer types in different gender groups\")"
   ]
  },
  {
   "cell_type": "markdown",
   "metadata": {},
   "source": [
    "- All genders prefer the discount offer."
   ]
  },
  {
   "cell_type": "markdown",
   "metadata": {},
   "source": [
    "#### Q: Do longer members prefer different kinds of offers?"
   ]
  },
  {
   "cell_type": "code",
   "execution_count": 64,
   "metadata": {},
   "outputs": [
    {
     "data": {
      "text/plain": [
       "Text(0.5,1,'Distribution of offer types in different membership groups')"
      ]
     },
     "execution_count": 64,
     "metadata": {},
     "output_type": "execute_result"
    },
    {
     "data": {
      "image/png": "[encoded data removed]",
      "text/plain": [
       "<matplotlib.figure.Figure at 0x7f3aa7d98e10>"
      ]
     },
     "metadata": {
      "needs_background": "light"
     },
     "output_type": "display_data"
    }
   ],
   "source": [
    "#Set up a figure\n",
    "fig = plt.figure(figsize=(10,3))\n",
    "sns.countplot(x=\"membership_year\", hue=\"offer_type\", data=completed_df).set_title(\"Distribution of offer types in different membership groups\")"
   ]
  },
  {
   "cell_type": "markdown",
   "metadata": {},
   "source": [
    "- All members prefer the discount offer."
   ]
  },
  {
   "cell_type": "markdown",
   "metadata": {},
   "source": [
    "#### Summarized plots:"
   ]
  },
  {
   "cell_type": "code",
   "execution_count": 65,
   "metadata": {},
   "outputs": [
    {
     "data": {
      "text/plain": [
       "Text(0.5,1,'Distribution of offer types in different membership groups')"
      ]
     },
     "execution_count": 65,
     "metadata": {},
     "output_type": "execute_result"
    },
    {
     "data": {
      "image/png": "[encoded data removed]",
      "text/plain": [
       "<matplotlib.figure.Figure at 0x7f3aa7cce2b0>"
      ]
     },
     "metadata": {
      "needs_background": "light"
     },
     "output_type": "display_data"
    }
   ],
   "source": [
    "# Summarizing all Plots\n",
    "fig, ((ax1, ax2),(ax3,ax4)) = plt.subplots(2, 2,figsize=(15,5))\n",
    "fig.tight_layout(pad=5.0)\n",
    "sns.countplot(ax=ax1,order=['0 - 40k','40k - 60k','60k - 80k','80k - 100k','100k - 120k'],x=\"income_cluster\", hue=\"offer_type\", data=completed_df).set_title(\"Distribution of offer types in different income groups\")\n",
    "sns.countplot(ax=ax2,order=sorted(offer_df['age_cluster'].unique()),x=\"age_cluster\", hue=\"offer_type\", data=completed_df).set_title(\"Distribution of offer types in age groups\")\n",
    "sns.countplot(ax=ax3,x=\"gender\", hue=\"offer_type\", data=completed_df).set_title(\"Distribution of offer types in different gender groups\")\n",
    "sns.countplot(ax=ax4,x=\"membership_year\", hue=\"offer_type\", data=completed_df).set_title(\"Distribution of offer types in different membership groups\")"
   ]
  },
  {
   "cell_type": "markdown",
   "metadata": {},
   "source": [
    "## Conclusion"
   ]
  },
  {
   "cell_type": "markdown",
   "metadata": {},
   "source": [
    "For getting an overall good response for offers I would recommend to give offers to female members older than 50 years, who are longer a part of the starbucks community. The income should be higher than 70,000 USD a year. For the offer type I think it does not matter if it is the bogo or the discount offer but the discount offer is completed slightly better than the bogo offer."
   ]
  },
  {
   "cell_type": "markdown",
   "metadata": {},
   "source": [
    "### Resources\n",
    "- https://stackoverflow.com/questions/5254445/add-string-in-a-certain-position-in-python  \n",
    "- https://stackoverflow.com/questions/38231591/split-explode-a-column-of-dictionaries-into-separate-columns-with-pandas  \n",
    "- https://pandas.pydata.org/pandas-docs/stable/reference/api/pandas.DataFrame.merge.html  \n",
    "- https://stackoverflow.com/questions/26660654/how-do-i-print-the-key-value-pairs-of-a-dictionary-in-python/26660785  \n",
    "- https://www.codegrepper.com/code-examples/python/pandas+split+dictionary+into+columns  \n",
    "- https://towardsdatascience.com/how-to-extract-key-from-python-dictionary-using-value-2b2f8dd2a995  \n",
    "- https://stackoverflow.com/questions/48784908/numpy-unique-sort-based-on-counts  \n",
    "- https://www.dataquest.io/blog/python-datetime-tutorial/  \n",
    "- https://stackoverflow.com/questions/43855474/changing-sort-in-value-counts  \n",
    "- https://stackoverflow.com/questions/42406233/how-to-add-title-to-seaborn-boxplot  \n",
    "- https://thispointer.com/python-how-to-use-if-else-elif-in-lambda-functions/  \n",
    "-  https://www.kite.com/python/answers/how-to-change-the-seaborn-plot-figure-size-in-python#:~:text=Set%20the%20figsize%20argument%20in,pyplot.&text=subplots(figsize%3DNone)%20with,to%20change%20the%20figure%20size.\n",
    "- https://dev.to/thalesbruno/subplotting-with-matplotlib-and-seaborn-5ei8  \n",
    "- https://knowledge.udacity.com/questions/587418  \n",
    "- https://www.kite.com/python/answers/how-to-set-the-spacing-between-subplots-in-matplotlib-in-python  \n",
    "- https://datavizpyr.com/how-to-manually-order-boxplot-in-seaborn/"
   ]
  },
  {
   "cell_type": "code",
   "execution_count": null,
   "metadata": {},
   "outputs": [],
   "source": []
  }
 ],
 "metadata": {
  "kernelspec": {
   "display_name": "Python 3",
   "language": "python",
   "name": "python3"
  },
  "language_info": {
   "codemirror_mode": {
    "name": "ipython",
    "version": 3
   },
   "file_extension": ".py",
   "mimetype": "text/x-python",
   "name": "python",
   "nbconvert_exporter": "python",
   "pygments_lexer": "ipython3",
   "version": "3.6.3"
  }
 },
 "nbformat": 4,
 "nbformat_minor": 2
}
